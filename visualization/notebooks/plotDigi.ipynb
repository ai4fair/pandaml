{
 "cells": [
  {
   "cell_type": "markdown",
   "metadata": {},
   "source": [
    "# PandaRoot Digitalization Plots\n",
    "\n",
    "Plots of the **MC Hits** in the tracking systems of the PANDA detector, created with PandaRoot.\n",
    "\n",
    "## Python Imports\n",
    "\n",
    "Import the required python packages"
   ]
  },
  {
   "cell_type": "code",
   "execution_count": 1,
   "metadata": {},
   "outputs": [],
   "source": [
    "# python IO for ROOT files\n",
    "import uproot\n",
    "\n",
    "# numpy\n",
    "import numpy as np\n",
    "\n",
    "# For interactive plotting\n",
    "import matplotlib.pyplot as plt\n",
    "from matplotlib import patches\n",
    "import matplotlib.colors as mcolors\n",
    "%matplotlib widget\n",
    "\n",
    "# to get access to the pdg database 2024 version\n",
    "import pdg\n",
    "PdgApi = pdg.connect('sqlite:///../pdgall-2024-v0.1.0.sqlite')"
   ]
  },
  {
   "cell_type": "markdown",
   "metadata": {},
   "source": [
    "## Global Parameters\n",
    "\n",
    "Get/set the paths to the input and output files.\n",
    "\n",
    "Path to the root files with the data that should be plotted:"
   ]
  },
  {
   "cell_type": "code",
   "execution_count": 7,
   "metadata": {},
   "outputs": [],
   "source": [
    "rootFilePath = \"/home/n_idw/simFiles/XiAntiXi_100/root\""
   ]
  },
  {
   "cell_type": "markdown",
   "metadata": {},
   "source": [
    "Path where the images should be saved"
   ]
  },
  {
   "cell_type": "code",
   "execution_count": 3,
   "metadata": {},
   "outputs": [],
   "source": [
    "imagePath = \"/mnt/c/Users/nikol/sciebo/Doktor/Pictures/simulation-visualization\""
   ]
  },
  {
   "cell_type": "markdown",
   "metadata": {},
   "source": [
    "Name of the simulations (prefix) that should be plotted:"
   ]
  },
  {
   "cell_type": "code",
   "execution_count": 4,
   "metadata": {},
   "outputs": [],
   "source": [
    "projectName = \"XiAntiXi_100\""
   ]
  },
  {
   "cell_type": "markdown",
   "metadata": {},
   "source": [
    "### Import Parameters\n",
    "\n",
    "Import the parameters corresponding to the detector responses, from the corresponding root file.\n",
    "\n",
    "Digitalization root file:"
   ]
  },
  {
   "cell_type": "code",
   "execution_count": 9,
   "metadata": {},
   "outputs": [
    {
     "name": "stdout",
     "output_type": "stream",
     "text": [
      "Input digitalization file:  /home/n_idw/simFiles/XiAntiXi_100/root/XiAntiXi_100_digi.root\n"
     ]
    }
   ],
   "source": [
    "digiFile = rootFilePath + \"/\" + projectName + \"_digi.root\"\n",
    "print(\"Input digitalization file: \",digiFile)\n",
    "hit_params = uproot.open(digiFile+\":pndsim\")"
   ]
  },
  {
   "cell_type": "markdown",
   "metadata": {},
   "source": [
    "#### Straw Tube Detector (STT) : `STTHit`\n",
    "\n",
    "pos and mom are given in x, y, and z coordinates in the lab frame\n",
    "\n",
    "| Parameter Name\t| Description \t\t\t\t\t\t\t\t\t\t\t| Unit\t| Type\t\t\t|\t Class\t\t\t\t\t\t\t|\n",
    "|-------------------|-------------------------------------------------------|-------|---------------|-----------------------------------|\n",
    "| UniqueID\t\t\t| Object unique identifier\t\t\t\t\t\t\t\t| -\t\t| UInt_t\t\t| TObject\t\t\t\t\t\t\t|\n",
    "| Bits\t\t\t\t| Bit field status word\t\t\t\t\t\t\t\t\t| -\t\t| UInt_t\t\t| TObject \t\t\t\t\t\t\t|\n",
    "| Link\t\t\t\t| \t\t\t\t\t\t\t\t\t\t\t\t\t\t| -\t\t| unique_ptr\t| FairMultiLinkedData_Interface\t\t|\n",
    "| TimeStamp\t\t\t| Time of digit or Hit \t\t\t\t\t\t\t\t\t| ns\t| Double_t\t\t| FairHit\t\t\t\t\t\t\t|\n",
    "| TimeStampError\t| Errors of the time of digit or Hit\t\t\t\t\t| ns\t| Doulbe_t\t\t| FairHit\t\t\t\t\t\t\t|\n",
    "| D(x,y,z)\t\t\t| Errors in position coordinates\t\t\t\t\t\t| cm\t| Double32_t\t| FairHit\t\t\t\t\t\t\t|\n",
    "| RefIndex\t\t\t| Index of FairMCPoint for this hit\t\t\t\t\t\t| -\t\t| Int_t\t\t\t| FairHit\t\t\t\t\t\t\t|\n",
    "| DetectorID\t\t| Detector unique volume ID\t\t\t\t\t\t\t\t| -\t\t| Int_t\t\t\t| FairHit\t\t\t\t\t\t\t|\n",
    "| (X,Y,Z)\t\t\t| Position coordinates of the tube \t\t\t\t\t\t| cm\t| Double32_t\t| FairHit\t\t\t\t\t\t\t|\n",
    "| TubeID\t\t\t| Unique tube ID\t\t\t\t\t\t\t\t\t\t| -\t\t| Int_t\t\t\t| PndSttHit\t\t\t\t\t\t\t|\n",
    "| Pulse\t\t\t\t| Time pulse\t\t\t\t\t\t\t\t\t\t\t| ns\t| Double_t\t\t| PndSttHit\t\t\t\t\t\t\t|\n",
    "| Isochrone\t\t\t| The radial measurement\t\t\t\t\t\t\t\t| cm\t| Double_t\t\t| PndSttHit\t\t\t\t\t\t\t|\n",
    "| IsochroneError\t| The error on on the radial measurement\t\t\t\t| cm\t| Double_t\t\t| PndSttHit\t\t\t\t\t\t\t|\n",
    "| DepCharge\t\t\t| Deposited charge\t\t\t\t\t\t\t\t\t\t| -\t\t| Double_t\t\t| PndSttHit\t\t\t\t\t\t\t|"
   ]
  },
  {
   "cell_type": "markdown",
   "metadata": {},
   "source": [
    "#### Micro Vertex Detector (MVD) : `MVDHitsPixel` & `MVDHitsStrip`\n",
    "\n",
    "pos and mom are given in x, y, and z coordinates in the lab frame\n",
    "\n",
    "| Parameter Name\t| Description \t\t\t\t\t\t\t\t\t\t\t| Unit\t| Type\t\t\t|\t Class\t\t\t\t\t\t\t|\n",
    "|-------------------|-------------------------------------------------------|-------|---------------|-----------------------------------|\n",
    "| UniqueID\t\t\t| Object unique identifier\t\t\t\t\t\t\t\t| -\t\t| UInt_t\t\t| TObject\t\t\t\t\t\t\t|\n",
    "| Bits\t\t\t\t| Bit field status word\t\t\t\t\t\t\t\t\t| -\t\t| UInt_t\t\t| TObject \t\t\t\t\t\t\t|\n",
    "| Link\t\t\t\t| \t\t\t\t\t\t\t\t\t\t\t\t\t\t| -\t\t| unique_ptr\t| FairMultiLinkedData_Interface\t\t|\n",
    "| TimeStamp\t\t\t| Time of digit or Hit \t\t\t\t\t\t\t\t\t| ns\t| Double_t\t\t| FairHit\t\t\t\t\t\t\t|\n",
    "| TimeStampError\t| Errors of the time of digit or Hit\t\t\t\t\t| ns\t| Doulbe_t\t\t| FairHit\t\t\t\t\t\t\t|\n",
    "| D(x,y,z)\t\t\t| Errors in position coordinates\t\t\t\t\t\t| cm\t| Double32_t\t| FairHit\t\t\t\t\t\t\t|\n",
    "| RefIndex\t\t\t| Index of FairMCPoint for this hit\t\t\t\t\t\t| -\t\t| Int_t\t\t\t| FairHit\t\t\t\t\t\t\t|\n",
    "| DetectorID\t\t| Detector unique volume ID\t\t\t\t\t\t\t\t| -\t\t| Int_t\t\t\t| FairHit\t\t\t\t\t\t\t|\n",
    "| (X,Y,Z)\t\t\t| Position coordinates of the tube \t\t\t\t\t\t| cm\t| Double32_t\t| FairHit\t\t\t\t\t\t\t|\n",
    "| SensorID\t\t\t| Sensor ID\t\t\t\t\t\t\t\t\t\t\t\t| -\t\t| Int_t\t\t\t| PndSdsHit (?)\n",
    "| Charge\t\t\t| Charge measured in hit\t\t\t\t\t\t\t\t| e\t\t| Double_t\t\t| PndSdsHit (?)\n",
    "| NDigiHits\t\t\t| Number of pixels fired for this event\t\t\t\t\t| -\t\t| Int_t\t\t\t| PndSdsHit (?)\n",
    "| ClusterIndex\t\t| Cluster number\t\t\t\t\t\t\t\t\t\t| -\t\t| Int_t\t\t\t| PndSdsHit (?)\n",
    "| BotIndex\t\t\t| Bottom Cluster ID (?)\t\t\t\t\t\t\t\t\t| -\t\t| Int_t\t\t\t| PndSdsHit (?)\n",
    "| Cov\t\t\t\t| Covariance matrix of the hit position (?)\t\t\t\t| cm\t| TMatrixD\t\t| PndSdsHit (?)"
   ]
  },
  {
   "cell_type": "markdown",
   "metadata": {},
   "source": [
    "## Plots\n",
    "\n",
    "### Plot xy-Projections with Colormaps for various Parameters\n",
    "\n",
    "#### Set the Parameters for the Plots"
   ]
  },
  {
   "cell_type": "markdown",
   "metadata": {},
   "source": [
    "eventNumber = 0\n",
    "\n",
    "# Get MC Track parameters\n",
    "mcTrack_pdgId = mcPoint_params[\"MCTrack.fPdgCode\"].array(library=\"np\")[eventNumber]\n",
    "\n",
    "# Get STT parameters\n",
    "\n",
    "# Coordinates\n",
    "stt_x = mcPoint_params[\"STTPoint.fX\"].array(library=\"np\")[eventNumber]\n",
    "stt_y = mcPoint_params[\"STTPoint.fY\"].array(library=\"np\")[eventNumber]\n",
    "stt_z = mcPoint_params[\"STTPoint.fZ\"].array(library=\"np\")[eventNumber]\n",
    "\n",
    "# Momenta\n",
    "stt_px = mcPoint_params[\"STTPoint.fPx\"].array(library=\"np\")[eventNumber]\n",
    "stt_py = mcPoint_params[\"STTPoint.fPy\"].array(library=\"np\")[eventNumber]\n",
    "stt_pz = mcPoint_params[\"STTPoint.fPz\"].array(library=\"np\")[eventNumber]\n",
    "\n",
    "# Time\n",
    "stt_t = mcPoint_params[\"STTPoint.fTime\"].array(library=\"np\")[eventNumber]\n",
    "\n",
    "# Energy loss\n",
    "stt_dE = mcPoint_params[\"STTPoint/STTPoint.fELoss\"].array(library=\"np\")[eventNumber]\n",
    "\n",
    "# Track ID\n",
    "stt_trackIDs = mcPoint_params[\"STTPoint.fTrackID\"].array(library=\"np\")[eventNumber]\n",
    "\n",
    "# Get MVD parameters\n",
    "\n",
    "# Coordinates\n",
    "mvd_x = mcPoint_params[\"MVDPoint.fX\"].array(library=\"np\")[eventNumber]\n",
    "mvd_y = mcPoint_params[\"MVDPoint.fY\"].array(library=\"np\")[eventNumber]\n",
    "mvd_z = mcPoint_params[\"MVDPoint.fZ\"].array(library=\"np\")[eventNumber]\n",
    "\n",
    "# Momenta\n",
    "mvd_px = mcPoint_params[\"MVDPoint.fPx\"].array(library=\"np\")[eventNumber]\n",
    "mvd_py = mcPoint_params[\"MVDPoint.fPy\"].array(library=\"np\")[eventNumber]\n",
    "mvd_pz = mcPoint_params[\"MVDPoint.fPz\"].array(library=\"np\")[eventNumber]\n",
    "\n",
    "# Time\n",
    "mvd_t = mcPoint_params[\"MVDPoint.fTime\"].array(library=\"np\")[eventNumber]\n",
    "\n",
    "# Energy loss\n",
    "mvd_dE = mcPoint_params[\"MVDPoint/MVDPoint.fELoss\"].array(library=\"np\")[eventNumber]\n",
    "\n",
    "# Track ID\n",
    "mvd_trackIDs = mcPoint_params[\"MVDPoint.fTrackID\"].array(library=\"np\")[eventNumber]\n",
    "\n",
    "# Normalize the xy-projections of the momenta\n",
    "stt_totMom = np.sqrt(stt_px**2 + stt_py**2)\n",
    "mvd_totMom = np.sqrt(mvd_px**2 + mvd_py**2)\n",
    "\n",
    "stt_normPx = stt_px/stt_totMom\n",
    "stt_normPy = stt_py/stt_totMom\n",
    "\n",
    "mvd_normPx = mvd_px/mvd_totMom\n",
    "mvd_normPy = mvd_py/mvd_totMom\n",
    "\n",
    "# get the absolute momenta\n",
    "stt_p = np.sqrt(stt_px**2 + stt_py**2 + stt_pz**2)\n",
    "mvd_p = np.sqrt(mvd_px**2 + mvd_py**2 + mvd_pz**2)\n",
    "\n",
    "# Define dictionaries with the trackID as the key and arrays with x, y & z coordinates and momenta as the values\n",
    "xPointsPerTrack = {}\n",
    "xPointsPerTrack = makeTrackDict(stt_trackIDs, stt_x, xPointsPerTrack)\n",
    "xPointsPerTrack = makeTrackDict(mvd_trackIDs, mvd_x, xPointsPerTrack)\n",
    "\n",
    "yPointsPerTrack = {}\n",
    "yPointsPerTrack = makeTrackDict(stt_trackIDs, stt_y, yPointsPerTrack)\n",
    "yPointsPerTrack = makeTrackDict(mvd_trackIDs, mvd_y, yPointsPerTrack)\n",
    "\n",
    "zPointsPerTrack = {}\n",
    "zPointsPerTrack = makeTrackDict(stt_trackIDs, stt_z, zPointsPerTrack)\n",
    "zPointsPerTrack = makeTrackDict(mvd_trackIDs, mvd_z, zPointsPerTrack)\n",
    "\n",
    "xMomentaPerTrack = {}\n",
    "xMomentaPerTrack = makeTrackDict(stt_trackIDs, stt_px, xMomentaPerTrack)\n",
    "xMomentaPerTrack = makeTrackDict(mvd_trackIDs, mvd_px, xMomentaPerTrack)\n",
    "\n",
    "yMomentaPerTrack = {}\n",
    "yMomentaPerTrack = makeTrackDict(stt_trackIDs, stt_py, yMomentaPerTrack)\n",
    "yMomentaPerTrack = makeTrackDict(mvd_trackIDs, mvd_py, yMomentaPerTrack)\n",
    "\n",
    "zMomentaPerTrack = {}\n",
    "zMomentaPerTrack = \tmakeTrackDict(stt_trackIDs, stt_pz, zMomentaPerTrack)\n",
    "zMomentaPerTrack = \tmakeTrackDict(mvd_trackIDs, mvd_pz, zMomentaPerTrack)"
   ]
  }
 ],
 "metadata": {
  "kernelspec": {
   "display_name": "rootPlts",
   "language": "python",
   "name": "python3"
  },
  "language_info": {
   "codemirror_mode": {
    "name": "ipython",
    "version": 3
   },
   "file_extension": ".py",
   "mimetype": "text/x-python",
   "name": "python",
   "nbconvert_exporter": "python",
   "pygments_lexer": "ipython3",
   "version": "3.10.14"
  }
 },
 "nbformat": 4,
 "nbformat_minor": 2
}
