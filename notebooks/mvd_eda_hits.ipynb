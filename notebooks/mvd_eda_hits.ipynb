{
 "cells": [
  {
   "cell_type": "markdown",
   "metadata": {},
   "source": [
    "## _Explore Hits_\n",
    "\n",
    "- Perform _EDA_ on _hits_ Data."
   ]
  },
  {
   "cell_type": "code",
   "execution_count": 1,
   "metadata": {},
   "outputs": [],
   "source": [
    "import sys, os, glob, yaml"
   ]
  },
  {
   "cell_type": "code",
   "execution_count": 2,
   "metadata": {},
   "outputs": [],
   "source": [
    "import math\n",
    "import random\n",
    "import numpy as np\n",
    "import pandas as pd\n",
    "\n",
    "import matplotlib.pyplot as plt\n",
    "%matplotlib inline"
   ]
  },
  {
   "cell_type": "code",
   "execution_count": 3,
   "metadata": {},
   "outputs": [],
   "source": [
    "import trackml.dataset\n",
    "import seaborn as sns"
   ]
  },
  {
   "cell_type": "code",
   "execution_count": 4,
   "metadata": {},
   "outputs": [],
   "source": [
    "sys.path.append('src')"
   ]
  },
  {
   "cell_type": "markdown",
   "metadata": {},
   "source": [
    "### _Dataset_"
   ]
  },
  {
   "cell_type": "code",
   "execution_count": 5,
   "metadata": {},
   "outputs": [],
   "source": [
    "# mu- data (old)\n",
    "# input_dir = './data_sets/pandaml/data_3.0_7.0_GeV/'\n",
    "\n",
    "# mu+mu- data (current)\n",
    "# input_dir = './data_sets/pandaml/data_0.1_1.5_GeV/'\n",
    "\n",
    "# pbarp data (coming)\n",
    "# input_dir = os.environ['HOME']+'/current/2_deepana/pandaml/data/'"
   ]
  },
  {
   "cell_type": "code",
   "execution_count": 6,
   "metadata": {},
   "outputs": [],
   "source": [
    "input_dir = \"./data\""
   ]
  },
  {
   "cell_type": "code",
   "execution_count": 7,
   "metadata": {},
   "outputs": [],
   "source": [
    "# Find All Input Data Files (hits.csv, cells.csv, particles.csv, truth.csv)\n",
    "all_files = os.listdir(input_dir)\n",
    "\n",
    "# Extract File Prefixes (use e.g. xxx-hits.csv)\n",
    "suffix = '-hits.csv'\n",
    "file_prefixes = sorted(os.path.join(input_dir, f.replace(suffix, ''))\n",
    "                       for f in all_files if f.endswith(suffix))"
   ]
  },
  {
   "cell_type": "code",
   "execution_count": 8,
   "metadata": {},
   "outputs": [
    {
     "data": {
      "text/plain": [
       "['./data/event0000000000',\n",
       " './data/event0000000001',\n",
       " './data/event0000000002',\n",
       " './data/event0000000003',\n",
       " './data/event0000000004',\n",
       " './data/event0000000005',\n",
       " './data/event0000000006',\n",
       " './data/event0000000007',\n",
       " './data/event0000000008',\n",
       " './data/event0000000009']"
      ]
     },
     "execution_count": 8,
     "metadata": {},
     "output_type": "execute_result"
    }
   ],
   "source": [
    "file_prefixes[:10]"
   ]
  },
  {
   "cell_type": "code",
   "execution_count": 9,
   "metadata": {},
   "outputs": [],
   "source": [
    "event_id = 0\n",
    "event_prefix = file_prefixes[event_id]"
   ]
  },
  {
   "cell_type": "code",
   "execution_count": 10,
   "metadata": {},
   "outputs": [],
   "source": [
    "# load an event\n",
    "hits, tubes, particles, truth = trackml.dataset.load_event(event_prefix)"
   ]
  },
  {
   "cell_type": "markdown",
   "metadata": {},
   "source": [
    "## Hits\n",
    "\n",
    "The hits file contains the following values for each hit/entry:\n",
    "\n",
    "* __hit_id__: numerical identifier of the hit inside the event.\n",
    "* __x, y, z__: measured x, y, z position (in millimeter) of the hit in global coordinates.\n",
    "* __volume_id__: numerical identifier of the detector group.\n",
    "* __layer_id__: numerical identifier of the detector layer inside the group.\n",
    "* __module_id__: numerical identifier of the detector module inside the layer.\n",
    "\n",
    "\n",
    "Here we have the $x, y, z$ global coordinates (in cm) of where the particles hit the detector surface. The volume/layer/module id could in principle be deduced from x, y, z. They are given here to simplify detector-specific data handling."
   ]
  },
  {
   "cell_type": "code",
   "execution_count": 11,
   "metadata": {},
   "outputs": [
    {
     "data": {
      "text/html": [
       "<div>\n",
       "<style scoped>\n",
       "    .dataframe tbody tr th:only-of-type {\n",
       "        vertical-align: middle;\n",
       "    }\n",
       "\n",
       "    .dataframe tbody tr th {\n",
       "        vertical-align: top;\n",
       "    }\n",
       "\n",
       "    .dataframe thead th {\n",
       "        text-align: right;\n",
       "    }\n",
       "</style>\n",
       "<table border=\"1\" class=\"dataframe\">\n",
       "  <thead>\n",
       "    <tr style=\"text-align: right;\">\n",
       "      <th></th>\n",
       "      <th>hit_id</th>\n",
       "      <th>x</th>\n",
       "      <th>y</th>\n",
       "      <th>z</th>\n",
       "      <th>volume_id</th>\n",
       "      <th>layer_id</th>\n",
       "      <th>module_id</th>\n",
       "    </tr>\n",
       "  </thead>\n",
       "  <tbody>\n",
       "    <tr>\n",
       "      <th>0</th>\n",
       "      <td>1</td>\n",
       "      <td>-4.57218</td>\n",
       "      <td>1.089970</td>\n",
       "      <td>14.780000</td>\n",
       "      <td>2</td>\n",
       "      <td>13</td>\n",
       "      <td>367</td>\n",
       "    </tr>\n",
       "    <tr>\n",
       "      <th>1</th>\n",
       "      <td>2</td>\n",
       "      <td>-2.13939</td>\n",
       "      <td>0.663788</td>\n",
       "      <td>6.980000</td>\n",
       "      <td>2</td>\n",
       "      <td>11</td>\n",
       "      <td>344</td>\n",
       "    </tr>\n",
       "    <tr>\n",
       "      <th>2</th>\n",
       "      <td>3</td>\n",
       "      <td>1.89899</td>\n",
       "      <td>4.346520</td>\n",
       "      <td>-3.207740</td>\n",
       "      <td>2</td>\n",
       "      <td>6</td>\n",
       "      <td>23</td>\n",
       "    </tr>\n",
       "    <tr>\n",
       "      <th>3</th>\n",
       "      <td>4</td>\n",
       "      <td>2.11633</td>\n",
       "      <td>0.776864</td>\n",
       "      <td>-0.780989</td>\n",
       "      <td>2</td>\n",
       "      <td>1</td>\n",
       "      <td>26</td>\n",
       "    </tr>\n",
       "    <tr>\n",
       "      <th>4</th>\n",
       "      <td>5</td>\n",
       "      <td>2.30500</td>\n",
       "      <td>-4.161470</td>\n",
       "      <td>6.980000</td>\n",
       "      <td>2</td>\n",
       "      <td>7</td>\n",
       "      <td>281</td>\n",
       "    </tr>\n",
       "  </tbody>\n",
       "</table>\n",
       "</div>"
      ],
      "text/plain": [
       "   hit_id        x         y          z  volume_id  layer_id  module_id\n",
       "0       1 -4.57218  1.089970  14.780000          2        13        367\n",
       "1       2 -2.13939  0.663788   6.980000          2        11        344\n",
       "2       3  1.89899  4.346520  -3.207740          2         6         23\n",
       "3       4  2.11633  0.776864  -0.780989          2         1         26\n",
       "4       5  2.30500 -4.161470   6.980000          2         7        281"
      ]
     },
     "execution_count": 11,
     "metadata": {},
     "output_type": "execute_result"
    }
   ],
   "source": [
    "hits.head()"
   ]
  },
  {
   "cell_type": "markdown",
   "metadata": {},
   "source": [
    "#### _Fix volume_id and layer_id for MVD, GEM, STT, STT Skewed in radial order_"
   ]
  },
  {
   "cell_type": "code",
   "execution_count": 12,
   "metadata": {},
   "outputs": [
    {
     "data": {
      "text/plain": [
       "array([2, 3, 6, 9], dtype=int32)"
      ]
     },
     "execution_count": 12,
     "metadata": {},
     "output_type": "execute_result"
    }
   ],
   "source": [
    "hits.volume_id.unique()"
   ]
  },
  {
   "cell_type": "code",
   "execution_count": 13,
   "metadata": {},
   "outputs": [
    {
     "data": {
      "text/plain": [
       "array([13, 11,  6,  1,  7,  5, 12, 14,  2, 17, 20, 15, 16, 23, 24, 25, 26,\n",
       "       27, 28,  0,  3,  4, 18, 19, 21, 22,  9], dtype=int32)"
      ]
     },
     "execution_count": 13,
     "metadata": {},
     "output_type": "execute_result"
    }
   ],
   "source": [
    "hits.layer_id.unique()"
   ]
  },
  {
   "cell_type": "code",
   "execution_count": 14,
   "metadata": {},
   "outputs": [
    {
     "data": {
      "text/plain": [
       "array([13, 11,  6,  1,  7,  5, 12, 14,  2], dtype=int32)"
      ]
     },
     "execution_count": 14,
     "metadata": {},
     "output_type": "execute_result"
    }
   ],
   "source": [
    "hits.loc[hits['volume_id'] == 2, 'layer_id'].unique()"
   ]
  },
  {
   "cell_type": "code",
   "execution_count": 15,
   "metadata": {},
   "outputs": [
    {
     "data": {
      "text/plain": [
       "array([17, 20, 15, 16], dtype=int32)"
      ]
     },
     "execution_count": 15,
     "metadata": {},
     "output_type": "execute_result"
    }
   ],
   "source": [
    "hits.loc[hits['volume_id'] == 3, 'layer_id'].unique()"
   ]
  },
  {
   "cell_type": "code",
   "execution_count": 16,
   "metadata": {},
   "outputs": [
    {
     "data": {
      "text/plain": [
       "array([23, 24, 25, 26, 27, 28], dtype=int32)"
      ]
     },
     "execution_count": 16,
     "metadata": {},
     "output_type": "execute_result"
    }
   ],
   "source": [
    "hits.loc[hits['volume_id'] == 6, 'layer_id'].unique()"
   ]
  },
  {
   "cell_type": "code",
   "execution_count": 17,
   "metadata": {},
   "outputs": [
    {
     "data": {
      "text/plain": [
       "array([ 0,  1,  2,  3,  4,  5,  6,  7, 16, 17, 18, 19, 20, 21, 22, 23, 24,\n",
       "       25,  9, 11, 13, 15], dtype=int32)"
      ]
     },
     "execution_count": 17,
     "metadata": {},
     "output_type": "execute_result"
    }
   ],
   "source": [
    "hits.loc[hits['volume_id'] == 9, 'layer_id'].unique()"
   ]
  },
  {
   "cell_type": "code",
   "execution_count": 18,
   "metadata": {},
   "outputs": [],
   "source": [
    "vlids = [   (2, 1), # MVDPixel\n",
    "            (2, 2),\n",
    "            (2, 3),\n",
    "            (2, 4),\n",
    "            (2, 5),\n",
    "            (2, 6),\n",
    "            (2, 7),\n",
    "            (2, 8),\n",
    "            (2, 9),\n",
    "            (2, 10),\n",
    "            (2, 11),\n",
    "            (2, 12),\n",
    "            (2, 13),\n",
    "            (2, 14),\n",
    "            (2, 15),\n",
    "            (2, 16),\n",
    "            (2, 17),\n",
    "            (2, 18),\n",
    "            (2, 19),\n",
    "            (2, 20),\n",
    "            (2, 21),\n",
    "            (2, 22),    \n",
    "            (6, 23), # GEM\n",
    "            (6, 24),\n",
    "            (6, 25),\n",
    "            (6, 26),\n",
    "            (6, 27),\n",
    "            (6, 28),\n",
    "            (9, 0),  # STT\n",
    "            (9, 1),\n",
    "            (9, 2),\n",
    "            (9, 3),\n",
    "            (9, 4),\n",
    "            (9, 5),\n",
    "            (9, 6),\n",
    "            (9, 7),\n",
    "            (9, 8),\n",
    "            (9, 9),\n",
    "            (9, 10),\n",
    "            (9, 11),\n",
    "            (9, 12),\n",
    "            (9, 13),\n",
    "            (9, 14),\n",
    "            (9, 15),\n",
    "            (9, 16),\n",
    "            (9, 17),\n",
    "            (9, 18),\n",
    "            (9, 19),\n",
    "            (9, 20),\n",
    "            (9, 21),\n",
    "            (9, 22),\n",
    "            (9, 23),\n",
    "            (9, 24),\n",
    "            (9, 25)\n",
    "        ]"
   ]
  },
  {
   "cell_type": "code",
   "execution_count": 19,
   "metadata": {},
   "outputs": [],
   "source": [
    "# Lets build our own volume_id, layer_id tuples from hits dataframe"
   ]
  },
  {
   "cell_type": "code",
   "execution_count": 20,
   "metadata": {},
   "outputs": [
    {
     "data": {
      "text/plain": [
       "27"
      ]
     },
     "execution_count": 20,
     "metadata": {},
     "output_type": "execute_result"
    }
   ],
   "source": [
    "# n_det_layers\n",
    "hits.layer_id.unique().shape[0]"
   ]
  },
  {
   "cell_type": "code",
   "execution_count": 21,
   "metadata": {},
   "outputs": [
    {
     "data": {
      "text/plain": [
       "4"
      ]
     },
     "execution_count": 21,
     "metadata": {},
     "output_type": "execute_result"
    }
   ],
   "source": [
    "hits.volume_id.unique().shape[0]"
   ]
  },
  {
   "cell_type": "code",
   "execution_count": 22,
   "metadata": {},
   "outputs": [],
   "source": [
    "# Get Group, Drop Duplicates and Sort\n",
    "vlids = hits[['volume_id', 'layer_id']].drop_duplicates()\n",
    "vlids = vlids.sort_values(['volume_id', 'layer_id'], ascending=[True, True])"
   ]
  },
  {
   "cell_type": "code",
   "execution_count": 23,
   "metadata": {},
   "outputs": [
    {
     "data": {
      "text/html": [
       "<div>\n",
       "<style scoped>\n",
       "    .dataframe tbody tr th:only-of-type {\n",
       "        vertical-align: middle;\n",
       "    }\n",
       "\n",
       "    .dataframe tbody tr th {\n",
       "        vertical-align: top;\n",
       "    }\n",
       "\n",
       "    .dataframe thead th {\n",
       "        text-align: right;\n",
       "    }\n",
       "</style>\n",
       "<table border=\"1\" class=\"dataframe\">\n",
       "  <thead>\n",
       "    <tr style=\"text-align: right;\">\n",
       "      <th></th>\n",
       "      <th>volume_id</th>\n",
       "      <th>layer_id</th>\n",
       "    </tr>\n",
       "  </thead>\n",
       "  <tbody>\n",
       "    <tr>\n",
       "      <th>3</th>\n",
       "      <td>2</td>\n",
       "      <td>1</td>\n",
       "    </tr>\n",
       "    <tr>\n",
       "      <th>18</th>\n",
       "      <td>2</td>\n",
       "      <td>2</td>\n",
       "    </tr>\n",
       "    <tr>\n",
       "      <th>10</th>\n",
       "      <td>2</td>\n",
       "      <td>5</td>\n",
       "    </tr>\n",
       "    <tr>\n",
       "      <th>2</th>\n",
       "      <td>2</td>\n",
       "      <td>6</td>\n",
       "    </tr>\n",
       "    <tr>\n",
       "      <th>4</th>\n",
       "      <td>2</td>\n",
       "      <td>7</td>\n",
       "    </tr>\n",
       "  </tbody>\n",
       "</table>\n",
       "</div>"
      ],
      "text/plain": [
       "    volume_id  layer_id\n",
       "3           2         1\n",
       "18          2         2\n",
       "10          2         5\n",
       "2           2         6\n",
       "4           2         7"
      ]
     },
     "execution_count": 23,
     "metadata": {},
     "output_type": "execute_result"
    }
   ],
   "source": [
    "vlids.head()"
   ]
  },
  {
   "cell_type": "code",
   "execution_count": 24,
   "metadata": {},
   "outputs": [],
   "source": [
    "vlids = list(zip(vlids.volume_id, vlids.layer_id))"
   ]
  },
  {
   "cell_type": "code",
   "execution_count": 25,
   "metadata": {},
   "outputs": [
    {
     "data": {
      "text/plain": [
       "[(2, 1),\n",
       " (2, 2),\n",
       " (2, 5),\n",
       " (2, 6),\n",
       " (2, 7),\n",
       " (2, 11),\n",
       " (2, 12),\n",
       " (2, 13),\n",
       " (2, 14),\n",
       " (3, 15),\n",
       " (3, 16),\n",
       " (3, 17),\n",
       " (3, 20),\n",
       " (6, 23),\n",
       " (6, 24),\n",
       " (6, 25),\n",
       " (6, 26),\n",
       " (6, 27),\n",
       " (6, 28),\n",
       " (9, 0),\n",
       " (9, 1),\n",
       " (9, 2),\n",
       " (9, 3),\n",
       " (9, 4),\n",
       " (9, 5),\n",
       " (9, 6),\n",
       " (9, 7),\n",
       " (9, 9),\n",
       " (9, 11),\n",
       " (9, 13),\n",
       " (9, 15),\n",
       " (9, 16),\n",
       " (9, 17),\n",
       " (9, 18),\n",
       " (9, 19),\n",
       " (9, 20),\n",
       " (9, 21),\n",
       " (9, 22),\n",
       " (9, 23),\n",
       " (9, 24),\n",
       " (9, 25)]"
      ]
     },
     "execution_count": 25,
     "metadata": {},
     "output_type": "execute_result"
    }
   ],
   "source": [
    "vlids"
   ]
  },
  {
   "cell_type": "code",
   "execution_count": 26,
   "metadata": {},
   "outputs": [],
   "source": [
    "n_det_layers = len(vlids)\n",
    "vlid_groups = hits.groupby([\"volume_id\", \"layer_id\"])"
   ]
  },
  {
   "cell_type": "code",
   "execution_count": 27,
   "metadata": {},
   "outputs": [
    {
     "data": {
      "text/plain": [
       "{(2, 1): [3, 5], (2, 2): [18], (2, 5): [10, 11, 12], (2, 6): [2, 8, 9, 15], (2, 7): [4], (2, 11): [1, 6, 19], (2, 12): [13, 17], (2, 13): [0, 7], (2, 14): [14, 16], (3, 15): [23, 24, 25, 26, 31, 33], (3, 16): [34], (3, 17): [20, 21, 27, 28, 32], (3, 20): [22, 29, 30], (6, 23): [35, 37, 38], (6, 24): [36, 39], (6, 25): [40, 42, 43], (6, 26): [41, 44], (6, 27): [45, 47], (6, 28): [46, 48], (9, 0): [49, 67, 75, 93, 109, 126, 139, 147, 163], (9, 1): [50, 68, 76, 94, 110, 127, 140, 148, 164], (9, 2): [51, 69, 77, 95, 111, 128, 141, 149, 165], (9, 3): [52, 70, 78, 96, 112, 129, 142, 150, 166], (9, 4): [53, 71, 79, 97, 113, 130, 143, 151, 167], (9, 5): [54, 72, 80, 98, 114, 131, 144, 152, 168], (9, 6): [55, 73, 81, 99, 115, 132, 145, 153, 169], (9, 7): [56, 74, 82, 100, 116, 133, 146, 154, 170, 180, 181, 190, 191, 196, 197, 206, 223, 234, 235, 240, 245, 246], (9, 9): [182, 183, 192, 198, 207, 208, 209, 224, 225, 226, 236, 241, 247, 248], (9, 11): [184, 185, 193, 199, 200, 201, 210, 213, 214, 215, 216, 217, 218, 219, 220, 221, 222, 227, 228, 237, 242, 249, 250], (9, 13): [186, 187, 194, 202, 211, 229, 230, 231, 232, 238, 239, 243, 251, 252], (9, 15): [188, 189, 195, 203, 204, 205, 212, 233, 244, 253], (9, 16): [57, 83, 101, 117, 134, 155, 171], (9, 17): [58, 84, 102, 118, 135, 156, 172], (9, 18): [59, 85, 103, 119, 136, 157, 173], (9, 19): [60, 86, 104, 120, 137, 158, 174], (9, 20): [61, 87, 105, 121, 138, 159, 175], (9, 21): [62, 88, 106, 122, 160, 176], (9, 22): [63, 89, 107, 123, 161, 177], (9, 23): [64, 90, 108, 124, 162, 178], (9, 24): [65, 91, 125, 179], (9, 25): [66, 92]}"
      ]
     },
     "execution_count": 27,
     "metadata": {},
     "output_type": "execute_result"
    }
   ],
   "source": [
    "vlid_groups.groups"
   ]
  },
  {
   "cell_type": "code",
   "execution_count": 28,
   "metadata": {},
   "outputs": [
    {
     "data": {
      "text/html": [
       "<div>\n",
       "<style scoped>\n",
       "    .dataframe tbody tr th:only-of-type {\n",
       "        vertical-align: middle;\n",
       "    }\n",
       "\n",
       "    .dataframe tbody tr th {\n",
       "        vertical-align: top;\n",
       "    }\n",
       "\n",
       "    .dataframe thead th {\n",
       "        text-align: right;\n",
       "    }\n",
       "</style>\n",
       "<table border=\"1\" class=\"dataframe\">\n",
       "  <thead>\n",
       "    <tr style=\"text-align: right;\">\n",
       "      <th></th>\n",
       "      <th>hit_id</th>\n",
       "      <th>x</th>\n",
       "      <th>y</th>\n",
       "      <th>z</th>\n",
       "      <th>volume_id</th>\n",
       "      <th>layer_id</th>\n",
       "      <th>module_id</th>\n",
       "    </tr>\n",
       "  </thead>\n",
       "  <tbody>\n",
       "    <tr>\n",
       "      <th>3</th>\n",
       "      <td>4</td>\n",
       "      <td>2.11633</td>\n",
       "      <td>0.776864</td>\n",
       "      <td>-0.780989</td>\n",
       "      <td>2</td>\n",
       "      <td>1</td>\n",
       "      <td>26</td>\n",
       "    </tr>\n",
       "    <tr>\n",
       "      <th>5</th>\n",
       "      <td>6</td>\n",
       "      <td>2.64012</td>\n",
       "      <td>1.042310</td>\n",
       "      <td>-2.403120</td>\n",
       "      <td>2</td>\n",
       "      <td>1</td>\n",
       "      <td>25</td>\n",
       "    </tr>\n",
       "  </tbody>\n",
       "</table>\n",
       "</div>"
      ],
      "text/plain": [
       "   hit_id        x         y         z  volume_id  layer_id  module_id\n",
       "3       4  2.11633  0.776864 -0.780989          2         1         26\n",
       "5       6  2.64012  1.042310 -2.403120          2         1         25"
      ]
     },
     "execution_count": 28,
     "metadata": {},
     "output_type": "execute_result"
    }
   ],
   "source": [
    "vlid_groups.get_group(vlids[0])"
   ]
  },
  {
   "cell_type": "markdown",
   "metadata": {},
   "source": [
    "- Issue is some groups are missing in the data.\n",
    "- We need to build `vlids` from the dataframe and then rename layers from `0,1,2,...,54`\n",
    "- n_det_layers = hits.layer_id.unique()"
   ]
  },
  {
   "cell_type": "code",
   "execution_count": 29,
   "metadata": {},
   "outputs": [],
   "source": [
    "def get_vlids(hits):\n",
    "    vlids = hits[['volume_id', 'layer_id']].drop_duplicates()\n",
    "    vlids = vlids.sort_values(['volume_id', 'layer_id'], ascending=[True, True])\n",
    "    vlids = list(zip(vlids.volume_id, vlids.layer_id))\n",
    "    return vlids"
   ]
  },
  {
   "cell_type": "code",
   "execution_count": 30,
   "metadata": {},
   "outputs": [],
   "source": [
    "vlids = get_vlids(hits)"
   ]
  },
  {
   "cell_type": "code",
   "execution_count": 31,
   "metadata": {},
   "outputs": [
    {
     "data": {
      "text/plain": [
       "41"
      ]
     },
     "execution_count": 31,
     "metadata": {},
     "output_type": "execute_result"
    }
   ],
   "source": [
    "len(vlids)"
   ]
  },
  {
   "cell_type": "code",
   "execution_count": 44,
   "metadata": {},
   "outputs": [
    {
     "data": {
      "text/plain": [
       "41"
      ]
     },
     "execution_count": 44,
     "metadata": {},
     "output_type": "execute_result"
    }
   ],
   "source": [
    "hits.layer_id.unique().shape[0]"
   ]
  },
  {
   "cell_type": "code",
   "execution_count": 32,
   "metadata": {},
   "outputs": [
    {
     "data": {
      "text/plain": [
       "[(2, 1),\n",
       " (2, 2),\n",
       " (2, 5),\n",
       " (2, 6),\n",
       " (2, 7),\n",
       " (2, 11),\n",
       " (2, 12),\n",
       " (2, 13),\n",
       " (2, 14),\n",
       " (3, 15),\n",
       " (3, 16),\n",
       " (3, 17),\n",
       " (3, 20),\n",
       " (6, 23),\n",
       " (6, 24),\n",
       " (6, 25),\n",
       " (6, 26),\n",
       " (6, 27),\n",
       " (6, 28),\n",
       " (9, 0),\n",
       " (9, 1),\n",
       " (9, 2),\n",
       " (9, 3),\n",
       " (9, 4),\n",
       " (9, 5),\n",
       " (9, 6),\n",
       " (9, 7),\n",
       " (9, 9),\n",
       " (9, 11),\n",
       " (9, 13),\n",
       " (9, 15),\n",
       " (9, 16),\n",
       " (9, 17),\n",
       " (9, 18),\n",
       " (9, 19),\n",
       " (9, 20),\n",
       " (9, 21),\n",
       " (9, 22),\n",
       " (9, 23),\n",
       " (9, 24),\n",
       " (9, 25)]"
      ]
     },
     "execution_count": 32,
     "metadata": {},
     "output_type": "execute_result"
    }
   ],
   "source": [
    "vlids"
   ]
  },
  {
   "cell_type": "code",
   "execution_count": 33,
   "metadata": {},
   "outputs": [
    {
     "data": {
      "text/plain": [
       "array([13, 11,  6,  1,  7,  5, 12, 14,  2, 17, 20, 15, 16, 23, 24, 25, 26,\n",
       "       27, 28,  0,  3,  4, 18, 19, 21, 22,  9], dtype=int32)"
      ]
     },
     "execution_count": 33,
     "metadata": {},
     "output_type": "execute_result"
    }
   ],
   "source": [
    "hits.layer_id.unique()"
   ]
  },
  {
   "cell_type": "code",
   "execution_count": 34,
   "metadata": {},
   "outputs": [],
   "source": [
    "hits = pd.concat([vlid_groups.get_group(vlids[i]).assign(layer_id=i) for i in range(n_det_layers)])"
   ]
  },
  {
   "cell_type": "code",
   "execution_count": 35,
   "metadata": {},
   "outputs": [
    {
     "data": {
      "text/plain": [
       "array([ 0,  1,  2,  3,  4,  5,  6,  7,  8,  9, 10, 11, 12, 13, 14, 15, 16,\n",
       "       17, 18, 19, 20, 21, 22, 23, 24, 25, 26, 27, 28, 29, 30, 31, 32, 33,\n",
       "       34, 35, 36, 37, 38, 39, 40])"
      ]
     },
     "execution_count": 35,
     "metadata": {},
     "output_type": "execute_result"
    }
   ],
   "source": [
    "hits.layer_id.unique()"
   ]
  },
  {
   "cell_type": "code",
   "execution_count": 36,
   "metadata": {},
   "outputs": [
    {
     "data": {
      "text/html": [
       "<div>\n",
       "<style scoped>\n",
       "    .dataframe tbody tr th:only-of-type {\n",
       "        vertical-align: middle;\n",
       "    }\n",
       "\n",
       "    .dataframe tbody tr th {\n",
       "        vertical-align: top;\n",
       "    }\n",
       "\n",
       "    .dataframe thead th {\n",
       "        text-align: right;\n",
       "    }\n",
       "</style>\n",
       "<table border=\"1\" class=\"dataframe\">\n",
       "  <thead>\n",
       "    <tr style=\"text-align: right;\">\n",
       "      <th></th>\n",
       "      <th>hit_id</th>\n",
       "      <th>x</th>\n",
       "      <th>y</th>\n",
       "      <th>z</th>\n",
       "      <th>volume_id</th>\n",
       "      <th>layer_id</th>\n",
       "      <th>module_id</th>\n",
       "    </tr>\n",
       "  </thead>\n",
       "  <tbody>\n",
       "    <tr>\n",
       "      <th>3</th>\n",
       "      <td>4</td>\n",
       "      <td>2.116330</td>\n",
       "      <td>0.776864</td>\n",
       "      <td>-0.780989</td>\n",
       "      <td>2</td>\n",
       "      <td>0</td>\n",
       "      <td>26</td>\n",
       "    </tr>\n",
       "    <tr>\n",
       "      <th>5</th>\n",
       "      <td>6</td>\n",
       "      <td>2.640120</td>\n",
       "      <td>1.042310</td>\n",
       "      <td>-2.403120</td>\n",
       "      <td>2</td>\n",
       "      <td>0</td>\n",
       "      <td>25</td>\n",
       "    </tr>\n",
       "    <tr>\n",
       "      <th>18</th>\n",
       "      <td>19</td>\n",
       "      <td>0.893001</td>\n",
       "      <td>1.983650</td>\n",
       "      <td>1.980000</td>\n",
       "      <td>2</td>\n",
       "      <td>1</td>\n",
       "      <td>272</td>\n",
       "    </tr>\n",
       "    <tr>\n",
       "      <th>10</th>\n",
       "      <td>11</td>\n",
       "      <td>-1.739660</td>\n",
       "      <td>-1.264310</td>\n",
       "      <td>4.420000</td>\n",
       "      <td>2</td>\n",
       "      <td>2</td>\n",
       "      <td>333</td>\n",
       "    </tr>\n",
       "    <tr>\n",
       "      <th>11</th>\n",
       "      <td>12</td>\n",
       "      <td>-0.900623</td>\n",
       "      <td>1.526720</td>\n",
       "      <td>3.980000</td>\n",
       "      <td>2</td>\n",
       "      <td>2</td>\n",
       "      <td>331</td>\n",
       "    </tr>\n",
       "  </tbody>\n",
       "</table>\n",
       "</div>"
      ],
      "text/plain": [
       "    hit_id         x         y         z  volume_id  layer_id  module_id\n",
       "3        4  2.116330  0.776864 -0.780989          2         0         26\n",
       "5        6  2.640120  1.042310 -2.403120          2         0         25\n",
       "18      19  0.893001  1.983650  1.980000          2         1        272\n",
       "10      11 -1.739660 -1.264310  4.420000          2         2        333\n",
       "11      12 -0.900623  1.526720  3.980000          2         2        331"
      ]
     },
     "execution_count": 36,
     "metadata": {},
     "output_type": "execute_result"
    }
   ],
   "source": [
    "hits.head()"
   ]
  },
  {
   "cell_type": "code",
   "execution_count": 37,
   "metadata": {},
   "outputs": [],
   "source": [
    "vlids = get_vlids(hits)"
   ]
  },
  {
   "cell_type": "code",
   "execution_count": 38,
   "metadata": {},
   "outputs": [
    {
     "data": {
      "text/plain": [
       "[(2, 0),\n",
       " (2, 1),\n",
       " (2, 2),\n",
       " (2, 3),\n",
       " (2, 4),\n",
       " (2, 5),\n",
       " (2, 6),\n",
       " (2, 7),\n",
       " (2, 8),\n",
       " (3, 9),\n",
       " (3, 10),\n",
       " (3, 11),\n",
       " (3, 12),\n",
       " (6, 13),\n",
       " (6, 14),\n",
       " (6, 15),\n",
       " (6, 16),\n",
       " (6, 17),\n",
       " (6, 18),\n",
       " (9, 19),\n",
       " (9, 20),\n",
       " (9, 21),\n",
       " (9, 22),\n",
       " (9, 23),\n",
       " (9, 24),\n",
       " (9, 25),\n",
       " (9, 26),\n",
       " (9, 27),\n",
       " (9, 28),\n",
       " (9, 29),\n",
       " (9, 30),\n",
       " (9, 31),\n",
       " (9, 32),\n",
       " (9, 33),\n",
       " (9, 34),\n",
       " (9, 35),\n",
       " (9, 36),\n",
       " (9, 37),\n",
       " (9, 38),\n",
       " (9, 39),\n",
       " (9, 40)]"
      ]
     },
     "execution_count": 38,
     "metadata": {},
     "output_type": "execute_result"
    }
   ],
   "source": [
    "vlids"
   ]
  },
  {
   "cell_type": "code",
   "execution_count": 39,
   "metadata": {},
   "outputs": [],
   "source": [
    "# Calculate derived hits variables\n",
    "r = np.sqrt(hits.x**2 + hits.y**2)\n",
    "phi = np.arctan2(hits.y, hits.x)\n",
    "\n",
    "# Merge `hits` with `truth`, but first add `r` & `phi`\n",
    "hits = hits.assign(r=r, phi=phi).merge(truth, on=\"hit_id\")\n",
    "\n",
    "# Add `event_id` column to this event.\n",
    "# hits = hits.assign(event_id=int(event_file[-10:]))"
   ]
  },
  {
   "cell_type": "code",
   "execution_count": 40,
   "metadata": {},
   "outputs": [
    {
     "data": {
      "text/html": [
       "<div>\n",
       "<style scoped>\n",
       "    .dataframe tbody tr th:only-of-type {\n",
       "        vertical-align: middle;\n",
       "    }\n",
       "\n",
       "    .dataframe tbody tr th {\n",
       "        vertical-align: top;\n",
       "    }\n",
       "\n",
       "    .dataframe thead th {\n",
       "        text-align: right;\n",
       "    }\n",
       "</style>\n",
       "<table border=\"1\" class=\"dataframe\">\n",
       "  <thead>\n",
       "    <tr style=\"text-align: right;\">\n",
       "      <th></th>\n",
       "      <th>hit_id</th>\n",
       "      <th>x</th>\n",
       "      <th>y</th>\n",
       "      <th>z</th>\n",
       "      <th>volume_id</th>\n",
       "      <th>layer_id</th>\n",
       "      <th>module_id</th>\n",
       "      <th>r</th>\n",
       "      <th>phi</th>\n",
       "      <th>tx</th>\n",
       "      <th>ty</th>\n",
       "      <th>tz</th>\n",
       "      <th>tpx</th>\n",
       "      <th>tpy</th>\n",
       "      <th>tpz</th>\n",
       "      <th>weight</th>\n",
       "      <th>particle_id</th>\n",
       "    </tr>\n",
       "  </thead>\n",
       "  <tbody>\n",
       "    <tr>\n",
       "      <th>0</th>\n",
       "      <td>4</td>\n",
       "      <td>2.116330</td>\n",
       "      <td>0.776864</td>\n",
       "      <td>-0.780989</td>\n",
       "      <td>2</td>\n",
       "      <td>0</td>\n",
       "      <td>26</td>\n",
       "      <td>2.254411</td>\n",
       "      <td>0.351810</td>\n",
       "      <td>2.106560</td>\n",
       "      <td>0.774229</td>\n",
       "      <td>-0.777399</td>\n",
       "      <td>1.294080</td>\n",
       "      <td>0.472316</td>\n",
       "      <td>-0.476282</td>\n",
       "      <td>1.0</td>\n",
       "      <td>6</td>\n",
       "    </tr>\n",
       "    <tr>\n",
       "      <th>1</th>\n",
       "      <td>6</td>\n",
       "      <td>2.640120</td>\n",
       "      <td>1.042310</td>\n",
       "      <td>-2.403120</td>\n",
       "      <td>2</td>\n",
       "      <td>0</td>\n",
       "      <td>25</td>\n",
       "      <td>2.838423</td>\n",
       "      <td>0.376013</td>\n",
       "      <td>2.631460</td>\n",
       "      <td>1.037290</td>\n",
       "      <td>-2.394990</td>\n",
       "      <td>0.525116</td>\n",
       "      <td>0.213791</td>\n",
       "      <td>-0.479275</td>\n",
       "      <td>1.0</td>\n",
       "      <td>4</td>\n",
       "    </tr>\n",
       "    <tr>\n",
       "      <th>2</th>\n",
       "      <td>19</td>\n",
       "      <td>0.893001</td>\n",
       "      <td>1.983650</td>\n",
       "      <td>1.980000</td>\n",
       "      <td>2</td>\n",
       "      <td>1</td>\n",
       "      <td>272</td>\n",
       "      <td>2.175389</td>\n",
       "      <td>1.147792</td>\n",
       "      <td>0.888615</td>\n",
       "      <td>1.973640</td>\n",
       "      <td>1.970000</td>\n",
       "      <td>0.295761</td>\n",
       "      <td>0.648628</td>\n",
       "      <td>0.649246</td>\n",
       "      <td>1.0</td>\n",
       "      <td>9</td>\n",
       "    </tr>\n",
       "    <tr>\n",
       "      <th>3</th>\n",
       "      <td>11</td>\n",
       "      <td>-1.739660</td>\n",
       "      <td>-1.264310</td>\n",
       "      <td>4.420000</td>\n",
       "      <td>2</td>\n",
       "      <td>2</td>\n",
       "      <td>333</td>\n",
       "      <td>2.150557</td>\n",
       "      <td>-2.513134</td>\n",
       "      <td>-1.735840</td>\n",
       "      <td>-1.259670</td>\n",
       "      <td>4.410000</td>\n",
       "      <td>-0.327827</td>\n",
       "      <td>-0.241509</td>\n",
       "      <td>0.840340</td>\n",
       "      <td>1.0</td>\n",
       "      <td>2</td>\n",
       "    </tr>\n",
       "    <tr>\n",
       "      <th>4</th>\n",
       "      <td>12</td>\n",
       "      <td>-0.900623</td>\n",
       "      <td>1.526720</td>\n",
       "      <td>3.980000</td>\n",
       "      <td>2</td>\n",
       "      <td>2</td>\n",
       "      <td>331</td>\n",
       "      <td>1.772568</td>\n",
       "      <td>2.103762</td>\n",
       "      <td>-0.900665</td>\n",
       "      <td>1.523590</td>\n",
       "      <td>3.970000</td>\n",
       "      <td>-0.197713</td>\n",
       "      <td>0.328847</td>\n",
       "      <td>0.859544</td>\n",
       "      <td>1.0</td>\n",
       "      <td>5</td>\n",
       "    </tr>\n",
       "    <tr>\n",
       "      <th>...</th>\n",
       "      <td>...</td>\n",
       "      <td>...</td>\n",
       "      <td>...</td>\n",
       "      <td>...</td>\n",
       "      <td>...</td>\n",
       "      <td>...</td>\n",
       "      <td>...</td>\n",
       "      <td>...</td>\n",
       "      <td>...</td>\n",
       "      <td>...</td>\n",
       "      <td>...</td>\n",
       "      <td>...</td>\n",
       "      <td>...</td>\n",
       "      <td>...</td>\n",
       "      <td>...</td>\n",
       "      <td>...</td>\n",
       "      <td>...</td>\n",
       "    </tr>\n",
       "    <tr>\n",
       "      <th>249</th>\n",
       "      <td>109</td>\n",
       "      <td>16.618999</td>\n",
       "      <td>-35.855000</td>\n",
       "      <td>35.000000</td>\n",
       "      <td>9</td>\n",
       "      <td>39</td>\n",
       "      <td>4440</td>\n",
       "      <td>39.519264</td>\n",
       "      <td>-1.136768</td>\n",
       "      <td>16.511200</td>\n",
       "      <td>-35.894501</td>\n",
       "      <td>58.406200</td>\n",
       "      <td>0.268992</td>\n",
       "      <td>-0.734475</td>\n",
       "      <td>1.159730</td>\n",
       "      <td>1.0</td>\n",
       "      <td>7</td>\n",
       "    </tr>\n",
       "    <tr>\n",
       "      <th>250</th>\n",
       "      <td>160</td>\n",
       "      <td>-24.491199</td>\n",
       "      <td>31.309999</td>\n",
       "      <td>35.000000</td>\n",
       "      <td>9</td>\n",
       "      <td>39</td>\n",
       "      <td>4395</td>\n",
       "      <td>39.750912</td>\n",
       "      <td>2.234599</td>\n",
       "      <td>-24.388201</td>\n",
       "      <td>31.417900</td>\n",
       "      <td>89.234596</td>\n",
       "      <td>-0.274611</td>\n",
       "      <td>0.261989</td>\n",
       "      <td>0.846925</td>\n",
       "      <td>1.0</td>\n",
       "      <td>5</td>\n",
       "    </tr>\n",
       "    <tr>\n",
       "      <th>251</th>\n",
       "      <td>280</td>\n",
       "      <td>13.995000</td>\n",
       "      <td>37.369999</td>\n",
       "      <td>35.000000</td>\n",
       "      <td>9</td>\n",
       "      <td>39</td>\n",
       "      <td>4486</td>\n",
       "      <td>39.904598</td>\n",
       "      <td>1.212466</td>\n",
       "      <td>14.091800</td>\n",
       "      <td>37.339901</td>\n",
       "      <td>-21.051800</td>\n",
       "      <td>0.293452</td>\n",
       "      <td>0.944971</td>\n",
       "      <td>-0.522851</td>\n",
       "      <td>1.0</td>\n",
       "      <td>1</td>\n",
       "    </tr>\n",
       "    <tr>\n",
       "      <th>252</th>\n",
       "      <td>75</td>\n",
       "      <td>19.243099</td>\n",
       "      <td>35.349998</td>\n",
       "      <td>35.000000</td>\n",
       "      <td>9</td>\n",
       "      <td>40</td>\n",
       "      <td>4539</td>\n",
       "      <td>40.248222</td>\n",
       "      <td>1.072294</td>\n",
       "      <td>19.388800</td>\n",
       "      <td>35.252800</td>\n",
       "      <td>36.856300</td>\n",
       "      <td>0.391961</td>\n",
       "      <td>0.587672</td>\n",
       "      <td>0.647115</td>\n",
       "      <td>1.0</td>\n",
       "      <td>9</td>\n",
       "    </tr>\n",
       "    <tr>\n",
       "      <th>253</th>\n",
       "      <td>110</td>\n",
       "      <td>16.618999</td>\n",
       "      <td>-36.865002</td>\n",
       "      <td>35.000000</td>\n",
       "      <td>9</td>\n",
       "      <td>40</td>\n",
       "      <td>4516</td>\n",
       "      <td>40.437847</td>\n",
       "      <td>-1.147272</td>\n",
       "      <td>16.835899</td>\n",
       "      <td>-36.786499</td>\n",
       "      <td>59.813900</td>\n",
       "      <td>0.266013</td>\n",
       "      <td>-0.735303</td>\n",
       "      <td>1.159860</td>\n",
       "      <td>1.0</td>\n",
       "      <td>7</td>\n",
       "    </tr>\n",
       "  </tbody>\n",
       "</table>\n",
       "<p>254 rows × 17 columns</p>\n",
       "</div>"
      ],
      "text/plain": [
       "     hit_id          x          y          z  volume_id  layer_id  module_id  \\\n",
       "0         4   2.116330   0.776864  -0.780989          2         0         26   \n",
       "1         6   2.640120   1.042310  -2.403120          2         0         25   \n",
       "2        19   0.893001   1.983650   1.980000          2         1        272   \n",
       "3        11  -1.739660  -1.264310   4.420000          2         2        333   \n",
       "4        12  -0.900623   1.526720   3.980000          2         2        331   \n",
       "..      ...        ...        ...        ...        ...       ...        ...   \n",
       "249     109  16.618999 -35.855000  35.000000          9        39       4440   \n",
       "250     160 -24.491199  31.309999  35.000000          9        39       4395   \n",
       "251     280  13.995000  37.369999  35.000000          9        39       4486   \n",
       "252      75  19.243099  35.349998  35.000000          9        40       4539   \n",
       "253     110  16.618999 -36.865002  35.000000          9        40       4516   \n",
       "\n",
       "             r       phi         tx         ty         tz       tpx       tpy  \\\n",
       "0     2.254411  0.351810   2.106560   0.774229  -0.777399  1.294080  0.472316   \n",
       "1     2.838423  0.376013   2.631460   1.037290  -2.394990  0.525116  0.213791   \n",
       "2     2.175389  1.147792   0.888615   1.973640   1.970000  0.295761  0.648628   \n",
       "3     2.150557 -2.513134  -1.735840  -1.259670   4.410000 -0.327827 -0.241509   \n",
       "4     1.772568  2.103762  -0.900665   1.523590   3.970000 -0.197713  0.328847   \n",
       "..         ...       ...        ...        ...        ...       ...       ...   \n",
       "249  39.519264 -1.136768  16.511200 -35.894501  58.406200  0.268992 -0.734475   \n",
       "250  39.750912  2.234599 -24.388201  31.417900  89.234596 -0.274611  0.261989   \n",
       "251  39.904598  1.212466  14.091800  37.339901 -21.051800  0.293452  0.944971   \n",
       "252  40.248222  1.072294  19.388800  35.252800  36.856300  0.391961  0.587672   \n",
       "253  40.437847 -1.147272  16.835899 -36.786499  59.813900  0.266013 -0.735303   \n",
       "\n",
       "          tpz  weight  particle_id  \n",
       "0   -0.476282     1.0            6  \n",
       "1   -0.479275     1.0            4  \n",
       "2    0.649246     1.0            9  \n",
       "3    0.840340     1.0            2  \n",
       "4    0.859544     1.0            5  \n",
       "..        ...     ...          ...  \n",
       "249  1.159730     1.0            7  \n",
       "250  0.846925     1.0            5  \n",
       "251 -0.522851     1.0            1  \n",
       "252  0.647115     1.0            9  \n",
       "253  1.159860     1.0            7  \n",
       "\n",
       "[254 rows x 17 columns]"
      ]
     },
     "execution_count": 40,
     "metadata": {},
     "output_type": "execute_result"
    }
   ],
   "source": [
    "hits"
   ]
  },
  {
   "cell_type": "markdown",
   "metadata": {},
   "source": [
    "## The $x, y, z$ Distributions"
   ]
  },
  {
   "cell_type": "markdown",
   "metadata": {},
   "source": [
    "### (+) Vertical Intersection ($x, y$) in Detection Layers\n",
    "\n",
    "As shown in the figure below, the hits are semi evenly distributed on the detector surface $x, y$.  The white circle in the center of the plot is where the beam pipe lies.  Thanks [agerom] for [the clarification][clar].\n",
    "\n",
    "The colors represent different detector volumes.  Thanks to [Joshua Bonatt's notebook][josh].\n",
    "\n",
    "[josh]: https://www.kaggle.com/jbonatt/trackml-eda-etc\n",
    "[clar]: https://www.kaggle.com/wesamelshamy/trackml-problem-explanation-and-data-exploration/comments#323803\n",
    "[agerom]: https://www.kaggle.com/artemiosgeromitsos"
   ]
  },
  {
   "cell_type": "code",
   "execution_count": 41,
   "metadata": {},
   "outputs": [
    {
     "data": {
      "text/plain": [
       "<matplotlib.legend.Legend at 0x7f3116964280>"
      ]
     },
     "execution_count": 41,
     "metadata": {},
     "output_type": "execute_result"
    },
    {
     "data": {
      "image/png": "[encoded data removed]",
      "text/plain": [
       "<Figure size 576x576 with 3 Axes>"
      ]
     },
     "metadata": {
      "needs_background": "light"
     },
     "output_type": "display_data"
    }
   ],
   "source": [
    "# Plotting with Seaborn & Matplotlib:\n",
    "g = sns.jointplot(data=hits, x='x', y='y', space=1, height=8, color=\"r\")\n",
    "g.ax_joint.cla()\n",
    "plt.sca(g.ax_joint)\n",
    "\n",
    "volumes = hits.volume_id.unique()\n",
    "for volume in [2,3]:\n",
    "    v = hits[hits.volume_id == volume]\n",
    "    plt.scatter(v.x, v.y, s=5, label='volume {}'.format(volume))\n",
    "\n",
    "plt.xlabel('x (cm)')\n",
    "plt.ylabel('x (cm)')\n",
    "plt.xlim((-15,15))\n",
    "plt.ylim((-15,15))\n",
    "plt.xticks(fontsize=10)\n",
    "plt.yticks(fontsize=10)\n",
    "plt.grid(True)\n",
    "plt.legend(fontsize=10, loc='best')\n",
    "#plt.savefig(\"xy_barrel.pdf\")"
   ]
  },
  {
   "cell_type": "markdown",
   "metadata": {},
   "source": [
    "### (+) Horizonal Intersection ($y, z$) in Detection Layers\n",
    "You can think of the chart below as a horizontal intersection in the detection surface, where every dot is a hit.  Notice the relationship between the different activity levels in this chart and the one above for $x, y$.\n",
    "\n",
    "Again, the colors represent different volumes in the detector surface."
   ]
  },
  {
   "cell_type": "code",
   "execution_count": 42,
   "metadata": {},
   "outputs": [
    {
     "data": {
      "image/png": "[encoded data removed]",
      "text/plain": [
       "<Figure size 576x576 with 3 Axes>"
      ]
     },
     "metadata": {
      "needs_background": "light"
     },
     "output_type": "display_data"
    }
   ],
   "source": [
    "g = sns.jointplot(data=hits, x='z', y='y', space=1, height=8, color=\"r\")\n",
    "g.ax_joint.cla()\n",
    "plt.sca(g.ax_joint)\n",
    "\n",
    "volumes = hits.volume_id.unique()\n",
    "for volume in volumes:\n",
    "    v = hits[hits.volume_id == volume]\n",
    "    plt.scatter(v.z, v.y, s=5, label='volume {}'.format(volume))\n",
    "    \n",
    "plt.xlabel('Z (mm)')\n",
    "plt.ylabel('Y (mm)')\n",
    "plt.xlim((-40,40))\n",
    "plt.ylim((-40,40))\n",
    "plt.xticks(fontsize=10)\n",
    "plt.yticks(fontsize=10)\n",
    "plt.grid(True)\n",
    "plt.legend(fontsize=10, loc='best')\n",
    "plt.show()"
   ]
  },
  {
   "cell_type": "markdown",
   "metadata": {},
   "source": [
    "### (+) 3D Intersection ($x, y, z$) in Detection Layers\n",
    "\n",
    "And here is how the hits in this event look like in 3D.  Again, a sample from one event.  This combines the previous two charts in 3D.\n",
    "\n",
    "Notice how the particles penetrate the detector surface along $z$ coordinate."
   ]
  },
  {
   "cell_type": "code",
   "execution_count": 43,
   "metadata": {},
   "outputs": [
    {
     "data": {
      "image/png": "[encoded data removed]",
      "text/plain": [
       "<Figure size 864x864 with 1 Axes>"
      ]
     },
     "metadata": {
      "needs_background": "light"
     },
     "output_type": "display_data"
    }
   ],
   "source": [
    "fig = plt.figure(figsize=(12, 12))\n",
    "ax = fig.add_subplot(111, projection='3d')\n",
    "for volume in volumes:\n",
    "    v = hits[hits.volume_id == volume]\n",
    "    ax.scatter(v.z, v.x, v.y, label='volume {}'.format(volume), alpha=0.5)\n",
    "\n",
    "ax.set_title('Hit Locations')\n",
    "ax.set_xlabel('Z (cm)')\n",
    "ax.set_ylabel('X (cm)')\n",
    "ax.set_zlabel('Y (cm)')\n",
    "plt.show()"
   ]
  },
  {
   "cell_type": "code",
   "execution_count": null,
   "metadata": {},
   "outputs": [],
   "source": []
  }
 ],
 "metadata": {
  "kernelspec": {
   "display_name": "Python 3 (ipykernel)",
   "language": "python",
   "name": "python3"
  },
  "language_info": {
   "codemirror_mode": {
    "name": "ipython",
    "version": 3
   },
   "file_extension": ".py",
   "mimetype": "text/x-python",
   "name": "python",
   "nbconvert_exporter": "python",
   "pygments_lexer": "ipython3",
   "version": "3.8.12"
  }
 },
 "nbformat": 4,
 "nbformat_minor": 4
}
