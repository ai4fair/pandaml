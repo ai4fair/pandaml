{
 "cells": [
  {
   "cell_type": "markdown",
   "metadata": {},
   "source": [
    "## _PandaML_\n",
    "- Perform detailed _Exploratory Data Analysis_ (EDA) on STT Data."
   ]
  },
  {
   "cell_type": "code",
   "execution_count": 1,
   "metadata": {},
   "outputs": [],
   "source": [
    "import sys, os, glob, yaml"
   ]
  },
  {
   "cell_type": "code",
   "execution_count": 2,
   "metadata": {},
   "outputs": [],
   "source": [
    "import math\n",
    "import random\n",
    "import numpy as np\n",
    "import pandas as pd\n",
    "\n",
    "import matplotlib.pyplot as plt\n",
    "%matplotlib inline"
   ]
  },
  {
   "cell_type": "code",
   "execution_count": 3,
   "metadata": {},
   "outputs": [],
   "source": [
    "import trackml.dataset\n",
    "import seaborn as sns"
   ]
  },
  {
   "cell_type": "code",
   "execution_count": 4,
   "metadata": {},
   "outputs": [],
   "source": [
    "sys.path.append('src')"
   ]
  },
  {
   "cell_type": "markdown",
   "metadata": {},
   "source": [
    "### _Dataset_"
   ]
  },
  {
   "cell_type": "code",
   "execution_count": 5,
   "metadata": {},
   "outputs": [],
   "source": [
    "# mu- data (old)\n",
    "# input_dir = './data_sets/pandaml/data_3.0_7.0_GeV/'\n",
    "\n",
    "# mu+mu- data (current)\n",
    "input_dir = './data_sets/ctd2022p/data_10K'\n",
    "\n",
    "# pbarp data (coming)\n",
    "# input_dir = os.environ['HOME']+'/current/2_deepana/pandaml/data/'"
   ]
  },
  {
   "cell_type": "code",
   "execution_count": 6,
   "metadata": {},
   "outputs": [],
   "source": [
    "# Find All Input Data Files (hits.csv, cells.csv, particles.csv, truth.csv)\n",
    "all_files = os.listdir(input_dir)\n",
    "\n",
    "# Extract File Prefixes (use e.g. xxx-hits.csv)\n",
    "suffix = '-hits.csv'\n",
    "file_prefixes = sorted(os.path.join(input_dir, f.replace(suffix, ''))\n",
    "                       for f in all_files if f.endswith(suffix))"
   ]
  },
  {
   "cell_type": "code",
   "execution_count": 7,
   "metadata": {},
   "outputs": [
    {
     "name": "stdout",
     "output_type": "stream",
     "text": [
      "event0000000001 memory usage 0.01 MB\n"
     ]
    }
   ],
   "source": [
    "event_prefix = file_prefixes[1]\n",
    "\n",
    "# load an event\n",
    "hits, tubes, particles, truth = trackml.dataset.load_event(event_prefix)\n",
    "\n",
    "# memory usage\n",
    "mem_bytes = (hits.memory_usage(index=True).sum() \n",
    "             + tubes.memory_usage(index=True).sum() \n",
    "             + particles.memory_usage(index=True).sum() \n",
    "             + truth.memory_usage(index=True).sum())\n",
    "\n",
    "print('{} memory usage {:.2f} MB'.format(os.path.basename(event_prefix), mem_bytes / 2**20))"
   ]
  },
  {
   "cell_type": "code",
   "execution_count": 8,
   "metadata": {},
   "outputs": [],
   "source": [
    "# hits.head()\n",
    "# tubes.head()\n",
    "# particles.head()\n",
    "# truth.head()"
   ]
  },
  {
   "cell_type": "markdown",
   "metadata": {},
   "source": [
    "### _Read Event_"
   ]
  },
  {
   "cell_type": "code",
   "execution_count": 12,
   "metadata": {},
   "outputs": [],
   "source": [
    "# TODO: Try to use Event.py (from HepTrkX) instead of SttCSVReader,\n",
    "# although both are similar in many respects but have diffenct purpose.\n",
    "from src import SttCSVReader, Draw_Reader_Event"
   ]
  },
  {
   "cell_type": "code",
   "execution_count": 13,
   "metadata": {},
   "outputs": [],
   "source": [
    "reader = SttCSVReader(path=input_dir, noise=True, skewed=True)"
   ]
  },
  {
   "cell_type": "code",
   "execution_count": 14,
   "metadata": {},
   "outputs": [],
   "source": [
    "event_id = 4\n",
    "event = reader(event_id)"
   ]
  },
  {
   "cell_type": "code",
   "execution_count": 1,
   "metadata": {},
   "outputs": [],
   "source": [
    "# data.event_file"
   ]
  },
  {
   "cell_type": "code",
   "execution_count": 2,
   "metadata": {},
   "outputs": [],
   "source": [
    "# data.hits.head()\n",
    "# data.tubes.head()\n",
    "# data.particles.head()\n",
    "# data.event.head()"
   ]
  },
  {
   "cell_type": "code",
   "execution_count": 3,
   "metadata": {},
   "outputs": [],
   "source": [
    "# data.event.layer.unique()"
   ]
  },
  {
   "cell_type": "markdown",
   "metadata": {},
   "source": [
    "- _draw event_"
   ]
  },
  {
   "cell_type": "code",
   "execution_count": 5,
   "metadata": {},
   "outputs": [],
   "source": [
    "#Draw_Reader_Event(data=event,figsize=(7,7),save_fig=False);"
   ]
  },
  {
   "cell_type": "markdown",
   "metadata": {},
   "source": [
    "- _Plot some events for inspection_"
   ]
  },
  {
   "cell_type": "code",
   "execution_count": null,
   "metadata": {},
   "outputs": [],
   "source": [
    "# Save Events for Inspection\n",
    "# for e in range(8510, 8520):\n",
    "#    Draw_Reader_Event(reader(e),figsize=(8,8),save_fig=True);"
   ]
  },
  {
   "cell_type": "markdown",
   "metadata": {},
   "source": [
    "- _Drop Duplicates in \"Particles\"_"
   ]
  },
  {
   "cell_type": "code",
   "execution_count": 20,
   "metadata": {},
   "outputs": [],
   "source": [
    "# particles = event.particles.copy() # copy() it otherwise event.particles is changed\n",
    "# particles['nhits'] = particles.groupby(['particle_id'])['nhits'].transform('count')\n",
    "# particles.drop_duplicates(inplace=True, ignore_index=True)\n",
    "# particles.head(10)"
   ]
  },
  {
   "cell_type": "markdown",
   "metadata": {},
   "source": [
    "### _1. Reconstructable Tracks_\n",
    "\n",
    "- What fraction of particles are reconstructable if each track leave `nhits > 4` with `pt > 50 MeV`"
   ]
  },
  {
   "cell_type": "code",
   "execution_count": 24,
   "metadata": {},
   "outputs": [],
   "source": [
    "sum_tp, sum_rp = 0, 0\n",
    "\n",
    "for i in range(len(file_prefixes[:10])):\n",
    "    event = reader(i)\n",
    "        \n",
    "    truth_particles = event.particles.merge(event.truth, on='particle_id', how='left')\n",
    "    sum_tp += np.unique(truth_particles.particle_id).size\n",
    "    \n",
    "    truth_particles = truth_particles[truth_particles.nhits > 5]                 # particles with nhits > 4\n",
    "    reconstructable_particles = truth_particles[truth_particles.pt > 0.05]       # particles with pt > 50 MeV\n",
    "    sum_rp += np.unique(reconstructable_particles.particle_id).size"
   ]
  },
  {
   "cell_type": "code",
   "execution_count": 25,
   "metadata": {},
   "outputs": [
    {
     "name": "stdout",
     "output_type": "stream",
     "text": [
      "Total True Tracks: 437, Total Reconstructable Tracks: 330\n",
      "Fraction of reconstructable particles (n > 4 and pt > 50MeV): 75.515\n"
     ]
    }
   ],
   "source": [
    "print(f\"Total True Tracks: {sum_tp}, Total Reconstructable Tracks: {sum_rp}\")\n",
    "print(\"Fraction of reconstructable particles (n > 4 and pt > 50MeV): {:.3f}\".format((sum_rp/sum_tp)*100))"
   ]
  },
  {
   "cell_type": "markdown",
   "metadata": {},
   "source": [
    "#### _Histograms:_\n",
    "\n",
    "- Number of changed particles with pT > 50 MeV  per event\n",
    "- Number of true tracks with pT > 50 MeV and leaving at least 5 spacepoints (hits) per event\n",
    "- Number of spacepoints (hits) per event\n",
    "- Check the hits criteria with the IdealTrackFinder algorithm, which is based on MC truth information.\n",
    "\n",
    "\n",
    "_**NOTE:** See `stt_eda_ROOT.ipynb`_"
   ]
  },
  {
   "cell_type": "markdown",
   "metadata": {},
   "source": [
    "### _2. Hit Rate and Charge Distribution_"
   ]
  },
  {
   "cell_type": "code",
   "execution_count": 23,
   "metadata": {},
   "outputs": [
    {
     "data": {
      "image/png": "[encoded data removed]",
      "text/plain": [
       "<Figure size 1200x500 with 2 Axes>"
      ]
     },
     "metadata": {},
     "output_type": "display_data"
    }
   ],
   "source": [
    "# using the seaborn with pyplot API for subplots\n",
    "plt.figure(figsize=(12, 5))\n",
    "\n",
    "plt.subplot(1, 2, 1)\n",
    "_ = sns.histplot(data=particles, x='nhits', bins=10) # bins=particles.nhits.max()\n",
    "plt.title('Distribution of number of hits per particle for event 1000.')\n",
    "\n",
    "plt.subplot(1, 2, 2)\n",
    "plt.pie(particles.groupby('q')['vx'].count(),\n",
    "        labels=['negative', 'positive'],\n",
    "        autopct='%.0f%%',\n",
    "        radius=1.1)\n",
    "plt.title('Distribution of particle charges.')\n",
    "plt.show()"
   ]
  },
  {
   "cell_type": "code",
   "execution_count": 24,
   "metadata": {},
   "outputs": [
    {
     "data": {
      "image/png": "[encoded data removed]",
      "text/plain": [
       "<Figure size 1000x500 with 2 Axes>"
      ]
     },
     "metadata": {},
     "output_type": "display_data"
    }
   ],
   "source": [
    "# using the pyplot API for subplots\n",
    "plt.figure(figsize=(10,5))\n",
    "\n",
    "plt.subplot(1,2,1)\n",
    "particles.q.hist(bins=10)\n",
    "plt.xlabel('Charge (e)')\n",
    "plt.ylabel('Counts')\n",
    "\n",
    "plt.subplot(1,2,2)\n",
    "particles.nhits.hist(bins=particles.nhits.max())\n",
    "plt.xlabel('nhits')\n",
    "plt.ylabel('Counts')\n",
    "\n",
    "plt.show()"
   ]
  },
  {
   "cell_type": "markdown",
   "metadata": {
    "tags": []
   },
   "source": [
    "### _Draw Tracks_"
   ]
  },
  {
   "cell_type": "code",
   "execution_count": 25,
   "metadata": {},
   "outputs": [
    {
     "data": {
      "text/html": [
       "<div>\n",
       "<style scoped>\n",
       "    .dataframe tbody tr th:only-of-type {\n",
       "        vertical-align: middle;\n",
       "    }\n",
       "\n",
       "    .dataframe tbody tr th {\n",
       "        vertical-align: top;\n",
       "    }\n",
       "\n",
       "    .dataframe thead th {\n",
       "        text-align: right;\n",
       "    }\n",
       "</style>\n",
       "<table border=\"1\" class=\"dataframe\">\n",
       "  <thead>\n",
       "    <tr style=\"text-align: right;\">\n",
       "      <th></th>\n",
       "      <th>hit_id</th>\n",
       "      <th>x</th>\n",
       "      <th>y</th>\n",
       "      <th>z</th>\n",
       "      <th>volume_id</th>\n",
       "      <th>layer_id</th>\n",
       "      <th>module_id</th>\n",
       "      <th>r</th>\n",
       "    </tr>\n",
       "  </thead>\n",
       "  <tbody>\n",
       "    <tr>\n",
       "      <th>0</th>\n",
       "      <td>1</td>\n",
       "      <td>16.618999</td>\n",
       "      <td>-9.595</td>\n",
       "      <td>35.0</td>\n",
       "      <td>9</td>\n",
       "      <td>0</td>\n",
       "      <td>69</td>\n",
       "      <td>19.189976</td>\n",
       "    </tr>\n",
       "    <tr>\n",
       "      <th>1</th>\n",
       "      <td>2</td>\n",
       "      <td>17.493700</td>\n",
       "      <td>-9.090</td>\n",
       "      <td>35.0</td>\n",
       "      <td>9</td>\n",
       "      <td>1</td>\n",
       "      <td>178</td>\n",
       "      <td>19.714402</td>\n",
       "    </tr>\n",
       "    <tr>\n",
       "      <th>2</th>\n",
       "      <td>3</td>\n",
       "      <td>18.368401</td>\n",
       "      <td>-9.595</td>\n",
       "      <td>35.0</td>\n",
       "      <td>9</td>\n",
       "      <td>2</td>\n",
       "      <td>292</td>\n",
       "      <td>20.723469</td>\n",
       "    </tr>\n",
       "    <tr>\n",
       "      <th>3</th>\n",
       "      <td>4</td>\n",
       "      <td>19.243099</td>\n",
       "      <td>-9.090</td>\n",
       "      <td>35.0</td>\n",
       "      <td>9</td>\n",
       "      <td>3</td>\n",
       "      <td>413</td>\n",
       "      <td>21.282034</td>\n",
       "    </tr>\n",
       "    <tr>\n",
       "      <th>4</th>\n",
       "      <td>5</td>\n",
       "      <td>20.117800</td>\n",
       "      <td>-8.585</td>\n",
       "      <td>35.0</td>\n",
       "      <td>9</td>\n",
       "      <td>4</td>\n",
       "      <td>540</td>\n",
       "      <td>21.872999</td>\n",
       "    </tr>\n",
       "  </tbody>\n",
       "</table>\n",
       "</div>"
      ],
      "text/plain": [
       "   hit_id          x      y     z  volume_id  layer_id  module_id          r\n",
       "0       1  16.618999 -9.595  35.0          9         0         69  19.189976\n",
       "1       2  17.493700 -9.090  35.0          9         1        178  19.714402\n",
       "2       3  18.368401 -9.595  35.0          9         2        292  20.723469\n",
       "3       4  19.243099 -9.090  35.0          9         3        413  21.282034\n",
       "4       5  20.117800 -8.585  35.0          9         4        540  21.872999"
      ]
     },
     "execution_count": 25,
     "metadata": {},
     "output_type": "execute_result"
    }
   ],
   "source": [
    "# preprocess hits\n",
    "# hits['r'] = hits.apply(lambda row: np.sqrt(row.x**2 + row.y**2), axis=1)\n",
    "hits_ = hits.assign(r=hits.apply(lambda row: np.sqrt(row.x**2 + row.y**2), axis=1))\n",
    "hits_.head()"
   ]
  },
  {
   "cell_type": "code",
   "execution_count": 26,
   "metadata": {},
   "outputs": [
    {
     "data": {
      "text/html": [
       "<div>\n",
       "<style scoped>\n",
       "    .dataframe tbody tr th:only-of-type {\n",
       "        vertical-align: middle;\n",
       "    }\n",
       "\n",
       "    .dataframe tbody tr th {\n",
       "        vertical-align: top;\n",
       "    }\n",
       "\n",
       "    .dataframe thead th {\n",
       "        text-align: right;\n",
       "    }\n",
       "</style>\n",
       "<table border=\"1\" class=\"dataframe\">\n",
       "  <thead>\n",
       "    <tr style=\"text-align: right;\">\n",
       "      <th></th>\n",
       "      <th>hit_id</th>\n",
       "      <th>x</th>\n",
       "      <th>y</th>\n",
       "      <th>z</th>\n",
       "      <th>volume_id</th>\n",
       "      <th>layer_id</th>\n",
       "      <th>module_id</th>\n",
       "      <th>r</th>\n",
       "    </tr>\n",
       "  </thead>\n",
       "  <tbody>\n",
       "    <tr>\n",
       "      <th>0</th>\n",
       "      <td>1</td>\n",
       "      <td>16.618999</td>\n",
       "      <td>-9.595000</td>\n",
       "      <td>35.0</td>\n",
       "      <td>9</td>\n",
       "      <td>0</td>\n",
       "      <td>69</td>\n",
       "      <td>19.189976</td>\n",
       "    </tr>\n",
       "    <tr>\n",
       "      <th>1</th>\n",
       "      <td>2</td>\n",
       "      <td>17.493700</td>\n",
       "      <td>-9.090000</td>\n",
       "      <td>35.0</td>\n",
       "      <td>9</td>\n",
       "      <td>1</td>\n",
       "      <td>178</td>\n",
       "      <td>19.714402</td>\n",
       "    </tr>\n",
       "    <tr>\n",
       "      <th>2</th>\n",
       "      <td>3</td>\n",
       "      <td>18.368401</td>\n",
       "      <td>-9.595000</td>\n",
       "      <td>35.0</td>\n",
       "      <td>9</td>\n",
       "      <td>2</td>\n",
       "      <td>292</td>\n",
       "      <td>20.723469</td>\n",
       "    </tr>\n",
       "    <tr>\n",
       "      <th>3</th>\n",
       "      <td>4</td>\n",
       "      <td>19.243099</td>\n",
       "      <td>-9.090000</td>\n",
       "      <td>35.0</td>\n",
       "      <td>9</td>\n",
       "      <td>3</td>\n",
       "      <td>413</td>\n",
       "      <td>21.282034</td>\n",
       "    </tr>\n",
       "    <tr>\n",
       "      <th>4</th>\n",
       "      <td>5</td>\n",
       "      <td>20.117800</td>\n",
       "      <td>-8.585000</td>\n",
       "      <td>35.0</td>\n",
       "      <td>9</td>\n",
       "      <td>4</td>\n",
       "      <td>540</td>\n",
       "      <td>21.872999</td>\n",
       "    </tr>\n",
       "    <tr>\n",
       "      <th>5</th>\n",
       "      <td>6</td>\n",
       "      <td>20.992500</td>\n",
       "      <td>-8.080000</td>\n",
       "      <td>35.0</td>\n",
       "      <td>9</td>\n",
       "      <td>5</td>\n",
       "      <td>673</td>\n",
       "      <td>22.493810</td>\n",
       "    </tr>\n",
       "    <tr>\n",
       "      <th>6</th>\n",
       "      <td>7</td>\n",
       "      <td>21.867100</td>\n",
       "      <td>-7.575000</td>\n",
       "      <td>35.0</td>\n",
       "      <td>9</td>\n",
       "      <td>6</td>\n",
       "      <td>812</td>\n",
       "      <td>23.141968</td>\n",
       "    </tr>\n",
       "    <tr>\n",
       "      <th>7</th>\n",
       "      <td>8</td>\n",
       "      <td>22.741800</td>\n",
       "      <td>-7.070000</td>\n",
       "      <td>35.0</td>\n",
       "      <td>9</td>\n",
       "      <td>7</td>\n",
       "      <td>957</td>\n",
       "      <td>23.815423</td>\n",
       "    </tr>\n",
       "    <tr>\n",
       "      <th>8</th>\n",
       "      <td>9</td>\n",
       "      <td>23.751801</td>\n",
       "      <td>-8.206050</td>\n",
       "      <td>35.0</td>\n",
       "      <td>9</td>\n",
       "      <td>8</td>\n",
       "      <td>1131</td>\n",
       "      <td>25.129411</td>\n",
       "    </tr>\n",
       "    <tr>\n",
       "      <th>9</th>\n",
       "      <td>10</td>\n",
       "      <td>23.751801</td>\n",
       "      <td>-7.194660</td>\n",
       "      <td>35.0</td>\n",
       "      <td>9</td>\n",
       "      <td>8</td>\n",
       "      <td>1132</td>\n",
       "      <td>24.817558</td>\n",
       "    </tr>\n",
       "    <tr>\n",
       "      <th>10</th>\n",
       "      <td>11</td>\n",
       "      <td>24.626499</td>\n",
       "      <td>-6.688970</td>\n",
       "      <td>35.0</td>\n",
       "      <td>9</td>\n",
       "      <td>9</td>\n",
       "      <td>1331</td>\n",
       "      <td>25.518754</td>\n",
       "    </tr>\n",
       "    <tr>\n",
       "      <th>11</th>\n",
       "      <td>12</td>\n",
       "      <td>25.880501</td>\n",
       "      <td>-3.159890</td>\n",
       "      <td>35.0</td>\n",
       "      <td>9</td>\n",
       "      <td>10</td>\n",
       "      <td>1538</td>\n",
       "      <td>26.072691</td>\n",
       "    </tr>\n",
       "    <tr>\n",
       "      <th>12</th>\n",
       "      <td>13</td>\n",
       "      <td>25.880501</td>\n",
       "      <td>-2.148510</td>\n",
       "      <td>35.0</td>\n",
       "      <td>9</td>\n",
       "      <td>10</td>\n",
       "      <td>1539</td>\n",
       "      <td>25.969529</td>\n",
       "    </tr>\n",
       "    <tr>\n",
       "      <th>13</th>\n",
       "      <td>14</td>\n",
       "      <td>26.755199</td>\n",
       "      <td>-1.642810</td>\n",
       "      <td>35.0</td>\n",
       "      <td>9</td>\n",
       "      <td>11</td>\n",
       "      <td>1750</td>\n",
       "      <td>26.805588</td>\n",
       "    </tr>\n",
       "    <tr>\n",
       "      <th>14</th>\n",
       "      <td>15</td>\n",
       "      <td>26.755199</td>\n",
       "      <td>-0.631427</td>\n",
       "      <td>35.0</td>\n",
       "      <td>9</td>\n",
       "      <td>11</td>\n",
       "      <td>1751</td>\n",
       "      <td>26.762649</td>\n",
       "    </tr>\n",
       "  </tbody>\n",
       "</table>\n",
       "</div>"
      ],
      "text/plain": [
       "    hit_id          x         y     z  volume_id  layer_id  module_id  \\\n",
       "0        1  16.618999 -9.595000  35.0          9         0         69   \n",
       "1        2  17.493700 -9.090000  35.0          9         1        178   \n",
       "2        3  18.368401 -9.595000  35.0          9         2        292   \n",
       "3        4  19.243099 -9.090000  35.0          9         3        413   \n",
       "4        5  20.117800 -8.585000  35.0          9         4        540   \n",
       "5        6  20.992500 -8.080000  35.0          9         5        673   \n",
       "6        7  21.867100 -7.575000  35.0          9         6        812   \n",
       "7        8  22.741800 -7.070000  35.0          9         7        957   \n",
       "8        9  23.751801 -8.206050  35.0          9         8       1131   \n",
       "9       10  23.751801 -7.194660  35.0          9         8       1132   \n",
       "10      11  24.626499 -6.688970  35.0          9         9       1331   \n",
       "11      12  25.880501 -3.159890  35.0          9        10       1538   \n",
       "12      13  25.880501 -2.148510  35.0          9        10       1539   \n",
       "13      14  26.755199 -1.642810  35.0          9        11       1750   \n",
       "14      15  26.755199 -0.631427  35.0          9        11       1751   \n",
       "\n",
       "            r  \n",
       "0   19.189976  \n",
       "1   19.714402  \n",
       "2   20.723469  \n",
       "3   21.282034  \n",
       "4   21.872999  \n",
       "5   22.493810  \n",
       "6   23.141968  \n",
       "7   23.815423  \n",
       "8   25.129411  \n",
       "9   24.817558  \n",
       "10  25.518754  \n",
       "11  26.072691  \n",
       "12  25.969529  \n",
       "13  26.805588  \n",
       "14  26.762649  "
      ]
     },
     "execution_count": 26,
     "metadata": {},
     "output_type": "execute_result"
    }
   ],
   "source": [
    "# we already have sorted hits, lets draw a single track.\n",
    "data = hits_[truth.particle_id == particles.iloc[1,0]]\n",
    "data"
   ]
  },
  {
   "cell_type": "code",
   "execution_count": 27,
   "metadata": {},
   "outputs": [
    {
     "data": {
      "image/png": "[encoded data removed]",
      "text/plain": [
       "<Figure size 1000x1000 with 1 Axes>"
      ]
     },
     "metadata": {},
     "output_type": "display_data"
    }
   ],
   "source": [
    "# Using Object Oriented API\n",
    "plt.close('all')\n",
    "plt.figure(figsize=(7,7))\n",
    "plt.scatter(data.x.values, data.y.values)\n",
    "plt.plot(data.x.values, data.y.values, \"-o\")\n",
    "plt.xlabel('x [cm]')\n",
    "plt.ylabel('y [cm]')\n",
    "#plt.xlim(-40, 40)\n",
    "#plt.ylim(-40, 40)\n",
    "# plt.savefig(os.path.join(outdir, \"event.png\"))\n",
    "plt.show()"
   ]
  },
  {
   "cell_type": "code",
   "execution_count": 28,
   "metadata": {},
   "outputs": [
    {
     "data": {
      "image/png": "[encoded data removed]",
      "text/plain": [
       "<Figure size 800x800 with 1 Axes>"
      ]
     },
     "metadata": {},
     "output_type": "display_data"
    }
   ],
   "source": [
    "# numpy.polyfit() function\n",
    "plt.close('all')\n",
    "plt.figure(figsize=(7,7))\n",
    "\n",
    "a, b = np.polyfit(data.x, data.y, 1)\n",
    "\n",
    "plt.scatter(data.x.values, data.y.values)\n",
    "plt.plot(data.x.values, a*data.x.values+b, 'r')\n",
    "plt.xlabel('x [cm]')\n",
    "plt.ylabel('y [cm]')\n",
    "#plt.xlim((5, 40))\n",
    "#plt.ylim((5, 40))\n",
    "plt.show()"
   ]
  },
  {
   "cell_type": "markdown",
   "metadata": {},
   "source": [
    "### _3. Momentum Distributions_"
   ]
  },
  {
   "cell_type": "code",
   "execution_count": 29,
   "metadata": {},
   "outputs": [],
   "source": [
    "# calculate & assign pt\n",
    "particles = particles.assign(pt=np.sqrt(particles.px**2 + particles.py**2))"
   ]
  },
  {
   "cell_type": "code",
   "execution_count": 30,
   "metadata": {},
   "outputs": [
    {
     "data": {
      "text/html": [
       "<div>\n",
       "<style scoped>\n",
       "    .dataframe tbody tr th:only-of-type {\n",
       "        vertical-align: middle;\n",
       "    }\n",
       "\n",
       "    .dataframe tbody tr th {\n",
       "        vertical-align: top;\n",
       "    }\n",
       "\n",
       "    .dataframe thead th {\n",
       "        text-align: right;\n",
       "    }\n",
       "</style>\n",
       "<table border=\"1\" class=\"dataframe\">\n",
       "  <thead>\n",
       "    <tr style=\"text-align: right;\">\n",
       "      <th></th>\n",
       "      <th>particle_id</th>\n",
       "      <th>vx</th>\n",
       "      <th>vy</th>\n",
       "      <th>vz</th>\n",
       "      <th>px</th>\n",
       "      <th>py</th>\n",
       "      <th>pz</th>\n",
       "      <th>q</th>\n",
       "      <th>nhits</th>\n",
       "      <th>pdgcode</th>\n",
       "      <th>start_time</th>\n",
       "      <th>primary</th>\n",
       "      <th>pt</th>\n",
       "    </tr>\n",
       "  </thead>\n",
       "  <tbody>\n",
       "    <tr>\n",
       "      <th>0</th>\n",
       "      <td>7</td>\n",
       "      <td>0.159734</td>\n",
       "      <td>0.060684</td>\n",
       "      <td>1.3698</td>\n",
       "      <td>0.05251</td>\n",
       "      <td>-0.07041</td>\n",
       "      <td>0.016586</td>\n",
       "      <td>-1</td>\n",
       "      <td>1</td>\n",
       "      <td>-211</td>\n",
       "      <td>0.116657</td>\n",
       "      <td>1</td>\n",
       "      <td>0.087834</td>\n",
       "    </tr>\n",
       "    <tr>\n",
       "      <th>1</th>\n",
       "      <td>7</td>\n",
       "      <td>0.159734</td>\n",
       "      <td>0.060684</td>\n",
       "      <td>1.3698</td>\n",
       "      <td>0.05251</td>\n",
       "      <td>-0.07041</td>\n",
       "      <td>0.016586</td>\n",
       "      <td>-1</td>\n",
       "      <td>1</td>\n",
       "      <td>-211</td>\n",
       "      <td>0.116657</td>\n",
       "      <td>1</td>\n",
       "      <td>0.087834</td>\n",
       "    </tr>\n",
       "    <tr>\n",
       "      <th>2</th>\n",
       "      <td>7</td>\n",
       "      <td>0.159734</td>\n",
       "      <td>0.060684</td>\n",
       "      <td>1.3698</td>\n",
       "      <td>0.05251</td>\n",
       "      <td>-0.07041</td>\n",
       "      <td>0.016586</td>\n",
       "      <td>-1</td>\n",
       "      <td>1</td>\n",
       "      <td>-211</td>\n",
       "      <td>0.116657</td>\n",
       "      <td>1</td>\n",
       "      <td>0.087834</td>\n",
       "    </tr>\n",
       "    <tr>\n",
       "      <th>3</th>\n",
       "      <td>7</td>\n",
       "      <td>0.159734</td>\n",
       "      <td>0.060684</td>\n",
       "      <td>1.3698</td>\n",
       "      <td>0.05251</td>\n",
       "      <td>-0.07041</td>\n",
       "      <td>0.016586</td>\n",
       "      <td>-1</td>\n",
       "      <td>1</td>\n",
       "      <td>-211</td>\n",
       "      <td>0.116657</td>\n",
       "      <td>1</td>\n",
       "      <td>0.087834</td>\n",
       "    </tr>\n",
       "    <tr>\n",
       "      <th>4</th>\n",
       "      <td>7</td>\n",
       "      <td>0.159734</td>\n",
       "      <td>0.060684</td>\n",
       "      <td>1.3698</td>\n",
       "      <td>0.05251</td>\n",
       "      <td>-0.07041</td>\n",
       "      <td>0.016586</td>\n",
       "      <td>-1</td>\n",
       "      <td>1</td>\n",
       "      <td>-211</td>\n",
       "      <td>0.116657</td>\n",
       "      <td>1</td>\n",
       "      <td>0.087834</td>\n",
       "    </tr>\n",
       "  </tbody>\n",
       "</table>\n",
       "</div>"
      ],
      "text/plain": [
       "   particle_id        vx        vy      vz       px       py        pz  q  \\\n",
       "0            7  0.159734  0.060684  1.3698  0.05251 -0.07041  0.016586 -1   \n",
       "1            7  0.159734  0.060684  1.3698  0.05251 -0.07041  0.016586 -1   \n",
       "2            7  0.159734  0.060684  1.3698  0.05251 -0.07041  0.016586 -1   \n",
       "3            7  0.159734  0.060684  1.3698  0.05251 -0.07041  0.016586 -1   \n",
       "4            7  0.159734  0.060684  1.3698  0.05251 -0.07041  0.016586 -1   \n",
       "\n",
       "   nhits  pdgcode  start_time  primary        pt  \n",
       "0      1     -211    0.116657        1  0.087834  \n",
       "1      1     -211    0.116657        1  0.087834  \n",
       "2      1     -211    0.116657        1  0.087834  \n",
       "3      1     -211    0.116657        1  0.087834  \n",
       "4      1     -211    0.116657        1  0.087834  "
      ]
     },
     "execution_count": 30,
     "metadata": {},
     "output_type": "execute_result"
    }
   ],
   "source": [
    "particles.head()"
   ]
  },
  {
   "cell_type": "code",
   "execution_count": 31,
   "metadata": {},
   "outputs": [
    {
     "data": {
      "text/plain": [
       "0     0.087834\n",
       "1     0.087834\n",
       "2     0.087834\n",
       "3     0.087834\n",
       "4     0.087834\n",
       "5     0.087834\n",
       "6     0.087834\n",
       "7     0.087834\n",
       "8     0.087834\n",
       "9     0.087834\n",
       "10    0.087834\n",
       "11    0.087834\n",
       "12    0.087834\n",
       "13    0.087834\n",
       "14    0.087834\n",
       "15    0.208773\n",
       "16    0.208773\n",
       "17    0.208773\n",
       "18    0.222328\n",
       "19    0.222328\n",
       "20    0.222328\n",
       "21    0.222328\n",
       "22    0.222328\n",
       "23    0.362430\n",
       "24    0.362430\n",
       "25    0.362430\n",
       "26    0.000061\n",
       "27    0.091527\n",
       "28    0.091527\n",
       "29    0.091527\n",
       "30    0.107784\n",
       "31    0.107784\n",
       "32    0.107784\n",
       "33    0.107784\n",
       "34    0.107784\n",
       "35    0.107784\n",
       "36    0.107784\n",
       "37    0.107784\n",
       "38    0.107784\n",
       "39    0.107784\n",
       "40    0.107784\n",
       "41    0.107784\n",
       "42    0.107784\n",
       "43    0.107784\n",
       "44    0.107784\n",
       "45    0.107784\n",
       "46    0.107784\n",
       "47    0.107784\n",
       "48    0.107784\n",
       "49    0.107784\n",
       "50    0.107784\n",
       "51    0.107784\n",
       "52    0.107784\n",
       "53    0.107784\n",
       "54    0.107784\n",
       "55    0.107784\n",
       "56    0.107784\n",
       "Name: pt, dtype: float32"
      ]
     },
     "execution_count": 31,
     "metadata": {},
     "output_type": "execute_result"
    }
   ],
   "source": [
    "particles.pt[:10]"
   ]
  },
  {
   "cell_type": "code",
   "execution_count": 32,
   "metadata": {},
   "outputs": [
    {
     "name": "stderr",
     "output_type": "stream",
     "text": [
      "/tmp/ipykernel_681204/3314976617.py:2: MatplotlibDeprecationWarning: The seaborn styles shipped by Matplotlib are deprecated since 3.6, as they no longer correspond to the styles shipped by seaborn. However, they will remain available as 'seaborn-v0_8-<style>'. Alternatively, directly use the seaborn API instead.\n",
      "  plt.style.use('seaborn')\n"
     ]
    },
    {
     "data": {
      "image/png": "[encoded data removed]",
      "text/plain": [
       "<Figure size 800x800 with 1 Axes>"
      ]
     },
     "metadata": {},
     "output_type": "display_data"
    }
   ],
   "source": [
    "plt.close('all')\n",
    "plt.style.use('seaborn')\n",
    "fig = plt.figure(figsize=(8,8))\n",
    "\n",
    "plt.hist(particles.pt, bins=10)\n",
    "\n",
    "plt.xlabel('p_t [GeV]')\n",
    "plt.ylabel('counts')\n",
    "# plt.xlim((0.1, 1.5))\n",
    "#plt.ylim((5, 40))\n",
    "plt.show()"
   ]
  },
  {
   "cell_type": "code",
   "execution_count": 33,
   "metadata": {},
   "outputs": [
    {
     "name": "stdout",
     "output_type": "stream",
     "text": [
      "Average number of hits per tracks: 8.142857142857142\n"
     ]
    }
   ],
   "source": [
    "# find average hits per track\n",
    "print(\"Average number of hits per tracks: {}\".format(hits.hit_id.count()/particles.particle_id.unique().size))"
   ]
  },
  {
   "cell_type": "markdown",
   "metadata": {},
   "source": [
    "### _4. Number of Hits/Track_"
   ]
  },
  {
   "cell_type": "code",
   "execution_count": 26,
   "metadata": {},
   "outputs": [],
   "source": [
    "data = reader(8512)"
   ]
  },
  {
   "cell_type": "code",
   "execution_count": 27,
   "metadata": {},
   "outputs": [
    {
     "data": {
      "text/html": [
       "<div>\n",
       "<style scoped>\n",
       "    .dataframe tbody tr th:only-of-type {\n",
       "        vertical-align: middle;\n",
       "    }\n",
       "\n",
       "    .dataframe tbody tr th {\n",
       "        vertical-align: top;\n",
       "    }\n",
       "\n",
       "    .dataframe thead th {\n",
       "        text-align: right;\n",
       "    }\n",
       "</style>\n",
       "<table border=\"1\" class=\"dataframe\">\n",
       "  <thead>\n",
       "    <tr style=\"text-align: right;\">\n",
       "      <th></th>\n",
       "      <th>particle_id</th>\n",
       "      <th>vx</th>\n",
       "      <th>vy</th>\n",
       "      <th>vz</th>\n",
       "      <th>px</th>\n",
       "      <th>py</th>\n",
       "      <th>pz</th>\n",
       "      <th>q</th>\n",
       "      <th>nhits</th>\n",
       "      <th>pdgcode</th>\n",
       "      <th>start_time</th>\n",
       "      <th>primary</th>\n",
       "      <th>pt</th>\n",
       "      <th>peta</th>\n",
       "    </tr>\n",
       "  </thead>\n",
       "  <tbody>\n",
       "    <tr>\n",
       "      <th>0</th>\n",
       "      <td>7</td>\n",
       "      <td>-1.792720</td>\n",
       "      <td>0.727378</td>\n",
       "      <td>10.383900</td>\n",
       "      <td>-0.030073</td>\n",
       "      <td>-0.068671</td>\n",
       "      <td>0.146497</td>\n",
       "      <td>-1</td>\n",
       "      <td>28</td>\n",
       "      <td>-211</td>\n",
       "      <td>0.869761</td>\n",
       "      <td>1</td>\n",
       "      <td>0.074967</td>\n",
       "      <td>1.422943</td>\n",
       "    </tr>\n",
       "    <tr>\n",
       "      <th>1</th>\n",
       "      <td>6</td>\n",
       "      <td>-1.792720</td>\n",
       "      <td>0.727378</td>\n",
       "      <td>10.383900</td>\n",
       "      <td>-0.053826</td>\n",
       "      <td>0.102712</td>\n",
       "      <td>0.339467</td>\n",
       "      <td>1</td>\n",
       "      <td>11</td>\n",
       "      <td>2212</td>\n",
       "      <td>0.869761</td>\n",
       "      <td>1</td>\n",
       "      <td>0.115961</td>\n",
       "      <td>1.795240</td>\n",
       "    </tr>\n",
       "    <tr>\n",
       "      <th>2</th>\n",
       "      <td>5</td>\n",
       "      <td>0.633535</td>\n",
       "      <td>-0.257050</td>\n",
       "      <td>8.729440</td>\n",
       "      <td>0.015335</td>\n",
       "      <td>-0.101683</td>\n",
       "      <td>0.222657</td>\n",
       "      <td>1</td>\n",
       "      <td>24</td>\n",
       "      <td>211</td>\n",
       "      <td>0.405313</td>\n",
       "      <td>1</td>\n",
       "      <td>0.102833</td>\n",
       "      <td>1.515179</td>\n",
       "    </tr>\n",
       "    <tr>\n",
       "      <th>3</th>\n",
       "      <td>282</td>\n",
       "      <td>11.225600</td>\n",
       "      <td>19.993299</td>\n",
       "      <td>218.865005</td>\n",
       "      <td>0.099588</td>\n",
       "      <td>-0.075533</td>\n",
       "      <td>-0.500075</td>\n",
       "      <td>1</td>\n",
       "      <td>46</td>\n",
       "      <td>211</td>\n",
       "      <td>10.631400</td>\n",
       "      <td>0</td>\n",
       "      <td>0.124992</td>\n",
       "      <td>-2.094924</td>\n",
       "    </tr>\n",
       "  </tbody>\n",
       "</table>\n",
       "</div>"
      ],
      "text/plain": [
       "   particle_id         vx         vy          vz        px        py  \\\n",
       "0            7  -1.792720   0.727378   10.383900 -0.030073 -0.068671   \n",
       "1            6  -1.792720   0.727378   10.383900 -0.053826  0.102712   \n",
       "2            5   0.633535  -0.257050    8.729440  0.015335 -0.101683   \n",
       "3          282  11.225600  19.993299  218.865005  0.099588 -0.075533   \n",
       "\n",
       "         pz  q  nhits  pdgcode  start_time  primary        pt      peta  \n",
       "0  0.146497 -1     28     -211    0.869761        1  0.074967  1.422943  \n",
       "1  0.339467  1     11     2212    0.869761        1  0.115961  1.795240  \n",
       "2  0.222657  1     24      211    0.405313        1  0.102833  1.515179  \n",
       "3 -0.500075  1     46      211   10.631400        0  0.124992 -2.094924  "
      ]
     },
     "execution_count": 27,
     "metadata": {},
     "output_type": "execute_result"
    }
   ],
   "source": [
    "data.particles"
   ]
  },
  {
   "cell_type": "code",
   "execution_count": 28,
   "metadata": {},
   "outputs": [
    {
     "data": {
      "text/plain": [
       "array([[<AxesSubplot:title={'center':'nhits'}>]], dtype=object)"
      ]
     },
     "execution_count": 28,
     "metadata": {},
     "output_type": "execute_result"
    },
    {
     "data": {
      "image/png": "[encoded data removed]",
      "text/plain": [
       "<Figure size 432x288 with 1 Axes>"
      ]
     },
     "metadata": {
      "needs_background": "light"
     },
     "output_type": "display_data"
    }
   ],
   "source": [
    "data.particles.hist(column='nhits')"
   ]
  },
  {
   "cell_type": "markdown",
   "metadata": {},
   "source": [
    "### _5. Handling Noise Hits_\n",
    "\n",
    "- from `LightningModule/Processing/utils/event_utils.py`"
   ]
  },
  {
   "cell_type": "markdown",
   "metadata": {},
   "source": [
    "#### _1. Keep the Noise_"
   ]
  },
  {
   "cell_type": "code",
   "execution_count": 29,
   "metadata": {},
   "outputs": [],
   "source": [
    "truth_1 = truth\n",
    "hits_1 = hits"
   ]
  },
  {
   "cell_type": "code",
   "execution_count": 30,
   "metadata": {},
   "outputs": [],
   "source": [
    "truth_1 = truth_1.merge(particles, on=\"particle_id\", how=\"left\") # how='left' keeps noise hits even if truth.particle_id is not matched with particles.particle_id"
   ]
  },
  {
   "cell_type": "code",
   "execution_count": 31,
   "metadata": {},
   "outputs": [
    {
     "data": {
      "text/plain": [
       "array([7, 8, 6, 5, 4])"
      ]
     },
     "execution_count": 31,
     "metadata": {},
     "output_type": "execute_result"
    }
   ],
   "source": [
    "truth_1.particle_id.unique()"
   ]
  },
  {
   "cell_type": "code",
   "execution_count": 32,
   "metadata": {},
   "outputs": [],
   "source": [
    "hits_1 = hits_1.merge(truth_1, on=\"hit_id\")"
   ]
  },
  {
   "cell_type": "code",
   "execution_count": 33,
   "metadata": {},
   "outputs": [
    {
     "data": {
      "text/plain": [
       "array([7, 7, 7, ..., 4, 4, 4])"
      ]
     },
     "execution_count": 33,
     "metadata": {},
     "output_type": "execute_result"
    }
   ],
   "source": [
    "hits_1.particle_id.values"
   ]
  },
  {
   "cell_type": "code",
   "execution_count": 34,
   "metadata": {},
   "outputs": [
    {
     "data": {
      "text/plain": [
       "array([7, 8, 6, 5, 4])"
      ]
     },
     "execution_count": 34,
     "metadata": {},
     "output_type": "execute_result"
    }
   ],
   "source": [
    "# Here noise hits are assigned particle_id = 6, 46\n",
    "hits_1.particle_id.unique()"
   ]
  },
  {
   "cell_type": "markdown",
   "metadata": {},
   "source": [
    "#### _2. Remove the Noise_"
   ]
  },
  {
   "cell_type": "code",
   "execution_count": 35,
   "metadata": {},
   "outputs": [],
   "source": [
    "truth_2 = truth\n",
    "hits_2 = hits"
   ]
  },
  {
   "cell_type": "code",
   "execution_count": 36,
   "metadata": {},
   "outputs": [],
   "source": [
    "truth_2 = truth_2.merge(particles, on=\"particle_id\", how=\"inner\") # how='inner' removes noise hits, matched the truth.particle_id with particles.particle_id"
   ]
  },
  {
   "cell_type": "code",
   "execution_count": 37,
   "metadata": {},
   "outputs": [
    {
     "data": {
      "text/plain": [
       "array([7, 8, 6, 5, 4])"
      ]
     },
     "execution_count": 37,
     "metadata": {},
     "output_type": "execute_result"
    }
   ],
   "source": [
    "truth_2.particle_id.unique()"
   ]
  },
  {
   "cell_type": "code",
   "execution_count": 38,
   "metadata": {},
   "outputs": [],
   "source": [
    "hits_2 = hits_2.merge(truth_2, on=\"hit_id\", how=\"inner\")"
   ]
  },
  {
   "cell_type": "code",
   "execution_count": 39,
   "metadata": {},
   "outputs": [
    {
     "data": {
      "text/plain": [
       "array([7, 7, 7, ..., 4, 4, 4])"
      ]
     },
     "execution_count": 39,
     "metadata": {},
     "output_type": "execute_result"
    }
   ],
   "source": [
    "hits_2.particle_id.values"
   ]
  },
  {
   "cell_type": "code",
   "execution_count": 40,
   "metadata": {},
   "outputs": [
    {
     "data": {
      "text/plain": [
       "array([7, 8, 6, 5, 4])"
      ]
     },
     "execution_count": 40,
     "metadata": {},
     "output_type": "execute_result"
    }
   ],
   "source": [
    "hits_2.particle_id.unique()"
   ]
  },
  {
   "cell_type": "markdown",
   "metadata": {},
   "source": [
    "#### _3. Add/Remove Noise_\n",
    "\n",
    "- from `src/event.py`"
   ]
  },
  {
   "cell_type": "code",
   "execution_count": 41,
   "metadata": {},
   "outputs": [
    {
     "data": {
      "text/plain": [
       "array([7, 7, 7, 7, 7, 7, 7, 7, 7, 7, 7, 7, 7, 7, 7, 7, 7, 7, 7, 7, 7, 7,\n",
       "       7, 7, 7, 7, 7, 7, 7, 7, 7, 7, 8, 8, 8, 8, 8, 8, 8, 8, 8, 8, 8, 8,\n",
       "       8, 8, 8, 8, 8, 8, 8, 8, 8, 8, 8, 8, 8, 8, 8, 8, 8, 8, 8, 8, 6, 6,\n",
       "       6, 6, 6, 6, 6, 6, 6, 6, 6, 6, 6, 5, 5, 5, 5, 5, 5, 5, 5, 5, 5, 5,\n",
       "       5, 5, 5, 5, 5, 5, 5, 5, 5, 5, 5, 5, 5, 5, 5, 5, 5, 5, 5, 5, 5, 5,\n",
       "       5, 5, 5, 4, 4, 4, 4, 4, 4, 4, 4, 4])"
      ]
     },
     "execution_count": 41,
     "metadata": {},
     "output_type": "execute_result"
    }
   ],
   "source": [
    "# particles (signal) info\n",
    "particles.particle_id.values"
   ]
  },
  {
   "cell_type": "code",
   "execution_count": 42,
   "metadata": {},
   "outputs": [
    {
     "data": {
      "text/plain": [
       "array([7, 8, 6, 5, 4])"
      ]
     },
     "execution_count": 42,
     "metadata": {},
     "output_type": "execute_result"
    }
   ],
   "source": [
    "# let see if noise hits are recorded\n",
    "truth.particle_id.unique()"
   ]
  },
  {
   "cell_type": "code",
   "execution_count": 43,
   "metadata": {},
   "outputs": [],
   "source": [
    "h = hits.merge(truth, on='hit_id', how='left')"
   ]
  },
  {
   "cell_type": "code",
   "execution_count": 44,
   "metadata": {},
   "outputs": [
    {
     "data": {
      "text/plain": [
       "array([7, 8, 6, 5, 4])"
      ]
     },
     "execution_count": 44,
     "metadata": {},
     "output_type": "execute_result"
    }
   ],
   "source": [
    "h.particle_id.unique()"
   ]
  },
  {
   "cell_type": "code",
   "execution_count": 45,
   "metadata": {},
   "outputs": [],
   "source": [
    "h = h.merge(particles, on='particle_id', how='left')"
   ]
  },
  {
   "cell_type": "code",
   "execution_count": 46,
   "metadata": {},
   "outputs": [
    {
     "data": {
      "text/plain": [
       "array([7, 8, 6, 5, 4])"
      ]
     },
     "execution_count": 46,
     "metadata": {},
     "output_type": "execute_result"
    }
   ],
   "source": [
    "h.particle_id.unique()"
   ]
  },
  {
   "cell_type": "code",
   "execution_count": 47,
   "metadata": {},
   "outputs": [
    {
     "data": {
      "text/plain": [
       "array([7, 7, 7, ..., 4, 4, 4])"
      ]
     },
     "execution_count": 47,
     "metadata": {},
     "output_type": "execute_result"
    }
   ],
   "source": [
    "h.particle_id.values"
   ]
  },
  {
   "cell_type": "markdown",
   "metadata": {},
   "source": [
    "### _Misc._"
   ]
  },
  {
   "cell_type": "raw",
   "metadata": {},
   "source": [
    "# first drop skewed straws. later z-axis\n",
    "# hits.query('skewed==0').head()"
   ]
  },
  {
   "cell_type": "raw",
   "metadata": {},
   "source": [
    "plt.style.use('ggplot')"
   ]
  },
  {
   "cell_type": "raw",
   "metadata": {},
   "source": [
    "truth_s = truth[['tx','ty','tz','tpx','tpy','tpz']]\n",
    "_ = truth_s.hist(figsize = (8,8))"
   ]
  },
  {
   "cell_type": "raw",
   "metadata": {},
   "source": [
    "particles_s = particles[['px','py','pz']]\n",
    "_ = particles_s.hist(figsize = (8,8))"
   ]
  },
  {
   "cell_type": "raw",
   "metadata": {},
   "source": [
    "# Pandas: Histogram\n",
    "hits_s = hits[['x', 'y', 'z']]\n",
    "_ = hits_s.hist(color='b', alpha=0.5, bins=50, figsize=(10,10))"
   ]
  },
  {
   "cell_type": "raw",
   "metadata": {},
   "source": [
    "# Get every 3rd particle\n",
    "tracks = truth.particle_id.unique()[1::2]\n",
    "\n",
    "plt.figure(figsize=(8,8))\n",
    "ax = plt.axes(projection='3d')\n",
    "\n",
    "for track in tracks:\n",
    "    t = truth[truth.particle_id == track]\n",
    "    ax.plot3D(t.tz, t.tx, t.ty)\n",
    "\n",
    "    ax.set_xlabel('z (cm)')\n",
    "ax.set_ylabel('x (cm)')\n",
    "ax.set_zlabel('y (cm)')\n",
    "\n",
    "# These two added to widen the 3D space\n",
    "ax.scatter(100,100,100, s=0)\n",
    "ax.scatter(-100,-100,-100, s=0)\n",
    "\n",
    "plt.show()"
   ]
  },
  {
   "cell_type": "raw",
   "metadata": {},
   "source": [
    "# load event using trackml.dataset (update: pandaroot will now generate tubes.csv as cells.csv)\n",
    "event_prefix = str('event{!s}'.format(format(event_id, '010d')))\n",
    "prefix = input_dir + str('event{!s}'.format(format(event_id, '010d')))\n",
    "hits, tubes, particles, truth = trackml.dataset.load_event(prefix)\n",
    "\n",
    "mem_bytes = (hits.memory_usage(index=True).sum() \n",
    "             + tubes.memory_usage(index=True).sum() \n",
    "             + particles.memory_usage(index=True).sum() \n",
    "             + truth.memory_usage(index=True).sum())\n",
    "\n",
    "print('{} memory usage {:.2f} MB'.format(event_prefix, mem_bytes / 2**20))"
   ]
  },
  {
   "cell_type": "raw",
   "metadata": {},
   "source": [
    "fig = plt.figure(figsize=(8,8))\n",
    "ax = fig.add_subplot(111)\n",
    "\n",
    "for pid in sel_pids:\n",
    "    ax.scatter(hits[hits.particle_id == pid].x.values, hits[hits.particle_id == pid].y.values, label='track %d'%pid)\n",
    "\n",
    "ax.set_xlabel('X Label')\n",
    "ax.set_ylabel('Y Label')\n",
    "ax.legend(fontsize=10, loc='best')"
   ]
  },
  {
   "cell_type": "code",
   "execution_count": null,
   "metadata": {},
   "outputs": [],
   "source": []
  }
 ],
 "metadata": {
  "kernelspec": {
   "display_name": "Python 3 (ipykernel)",
   "language": "python",
   "name": "python3"
  },
  "language_info": {
   "codemirror_mode": {
    "name": "ipython",
    "version": 3
   },
   "file_extension": ".py",
   "mimetype": "text/x-python",
   "name": "python",
   "nbconvert_exporter": "python",
   "pygments_lexer": "ipython3",
   "version": "3.8.12"
  }
 },
 "nbformat": 4,
 "nbformat_minor": 4
}
