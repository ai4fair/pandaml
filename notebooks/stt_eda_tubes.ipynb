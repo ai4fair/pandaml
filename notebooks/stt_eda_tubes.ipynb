{
 "cells": [
  {
   "cell_type": "markdown",
   "metadata": {},
   "source": [
    "## Explore Tubes\n",
    "\n",
    "- Perform EDA on _tubes_ Data."
   ]
  },
  {
   "cell_type": "code",
   "execution_count": 1,
   "metadata": {},
   "outputs": [],
   "source": [
    "import sys, os, glob, yaml"
   ]
  },
  {
   "cell_type": "code",
   "execution_count": 2,
   "metadata": {},
   "outputs": [],
   "source": [
    "import math\n",
    "import random\n",
    "import numpy as np\n",
    "import pandas as pd\n",
    "\n",
    "import matplotlib.pyplot as plt\n",
    "%matplotlib inline"
   ]
  },
  {
   "cell_type": "code",
   "execution_count": 3,
   "metadata": {},
   "outputs": [],
   "source": [
    "import trackml.dataset\n",
    "import seaborn as sns"
   ]
  },
  {
   "cell_type": "code",
   "execution_count": 4,
   "metadata": {},
   "outputs": [],
   "source": [
    "sys.path.append('src')"
   ]
  },
  {
   "cell_type": "markdown",
   "metadata": {},
   "source": [
    "### _Dataset_"
   ]
  },
  {
   "cell_type": "code",
   "execution_count": 5,
   "metadata": {},
   "outputs": [],
   "source": [
    "# mu- data (old)\n",
    "# input_dir = './data_sets/pandaml/data_3.0_7.0_GeV/'\n",
    "\n",
    "# mu+mu- data (current)\n",
    "input_dir = './data_sets/pandaml/data_0.1_1.5_GeV/'\n",
    "\n",
    "# pbarp data (coming)\n",
    "# input_dir = os.environ['HOME']+'/current/2_deepana/pandaml/data/'"
   ]
  },
  {
   "cell_type": "code",
   "execution_count": 6,
   "metadata": {},
   "outputs": [],
   "source": [
    "# Find All Input Data Files (hits.csv, cells.csv, particles.csv, truth.csv)\n",
    "all_files = os.listdir(input_dir)\n",
    "\n",
    "# Extract File Prefixes (use e.g. xxx-hits.csv)\n",
    "suffix = '-hits.csv'\n",
    "file_prefixes = sorted(os.path.join(input_dir, f.replace(suffix, ''))\n",
    "                       for f in all_files if f.endswith(suffix))"
   ]
  },
  {
   "cell_type": "code",
   "execution_count": 7,
   "metadata": {},
   "outputs": [
    {
     "data": {
      "text/plain": [
       "['./data_sets/pandaml/data_0.1_1.5_GeV/event0000000000',\n",
       " './data_sets/pandaml/data_0.1_1.5_GeV/event0000000001',\n",
       " './data_sets/pandaml/data_0.1_1.5_GeV/event0000000002',\n",
       " './data_sets/pandaml/data_0.1_1.5_GeV/event0000000003',\n",
       " './data_sets/pandaml/data_0.1_1.5_GeV/event0000000004',\n",
       " './data_sets/pandaml/data_0.1_1.5_GeV/event0000000005',\n",
       " './data_sets/pandaml/data_0.1_1.5_GeV/event0000000006',\n",
       " './data_sets/pandaml/data_0.1_1.5_GeV/event0000000007',\n",
       " './data_sets/pandaml/data_0.1_1.5_GeV/event0000000008',\n",
       " './data_sets/pandaml/data_0.1_1.5_GeV/event0000000009']"
      ]
     },
     "execution_count": 7,
     "metadata": {},
     "output_type": "execute_result"
    }
   ],
   "source": [
    "file_prefixes[:10]"
   ]
  },
  {
   "cell_type": "code",
   "execution_count": 8,
   "metadata": {},
   "outputs": [],
   "source": [
    "event_id = 0\n",
    "event_prefix = file_prefixes[event_id]"
   ]
  },
  {
   "cell_type": "code",
   "execution_count": 9,
   "metadata": {},
   "outputs": [],
   "source": [
    "# load an event\n",
    "hits, tubes, particles, truth = trackml.dataset.load_event(event_prefix)"
   ]
  },
  {
   "cell_type": "markdown",
   "metadata": {},
   "source": [
    "## Tubes\n",
    "\n",
    "The tubes file contains the following values for each hit/entry:\n",
    "\n",
    "* __hit_id__: numerical identifier of the hit inside the event.\n",
    "* __isochrone__: isochrone radius of particle inside a straw tube.\n",
    "* __depcharge__: \n",
    "* __energyloss__: \n",
    "* __volume_id__: numerical identifier of the detector group.\n",
    "* __layer_id__: numerical identifier of the detector layer inside the group.\n",
    "* __module_id__: numerical identifier of the detector tube inside the layer.\n",
    "* __skewed__: \n",
    "* __sector_id__: "
   ]
  },
  {
   "cell_type": "code",
   "execution_count": 10,
   "metadata": {},
   "outputs": [
    {
     "data": {
      "text/html": [
       "<div>\n",
       "<style scoped>\n",
       "    .dataframe tbody tr th:only-of-type {\n",
       "        vertical-align: middle;\n",
       "    }\n",
       "\n",
       "    .dataframe tbody tr th {\n",
       "        vertical-align: top;\n",
       "    }\n",
       "\n",
       "    .dataframe thead th {\n",
       "        text-align: right;\n",
       "    }\n",
       "</style>\n",
       "<table border=\"1\" class=\"dataframe\">\n",
       "  <thead>\n",
       "    <tr style=\"text-align: right;\">\n",
       "      <th></th>\n",
       "      <th>hit_id</th>\n",
       "      <th>isochrone</th>\n",
       "      <th>depcharge</th>\n",
       "      <th>energyloss</th>\n",
       "      <th>volume_id</th>\n",
       "      <th>layer_id</th>\n",
       "      <th>module_id</th>\n",
       "      <th>skewed</th>\n",
       "      <th>sector_id</th>\n",
       "    </tr>\n",
       "  </thead>\n",
       "  <tbody>\n",
       "    <tr>\n",
       "      <th>0</th>\n",
       "      <td>1</td>\n",
       "      <td>0.034734</td>\n",
       "      <td>15204100.0</td>\n",
       "      <td>15.2041</td>\n",
       "      <td>9</td>\n",
       "      <td>0</td>\n",
       "      <td>38</td>\n",
       "      <td>0</td>\n",
       "      <td>2</td>\n",
       "    </tr>\n",
       "    <tr>\n",
       "      <th>1</th>\n",
       "      <td>2</td>\n",
       "      <td>0.048140</td>\n",
       "      <td>25058700.0</td>\n",
       "      <td>25.0587</td>\n",
       "      <td>9</td>\n",
       "      <td>1</td>\n",
       "      <td>144</td>\n",
       "      <td>0</td>\n",
       "      <td>2</td>\n",
       "    </tr>\n",
       "    <tr>\n",
       "      <th>2</th>\n",
       "      <td>3</td>\n",
       "      <td>0.055623</td>\n",
       "      <td>13596100.0</td>\n",
       "      <td>13.5961</td>\n",
       "      <td>9</td>\n",
       "      <td>2</td>\n",
       "      <td>256</td>\n",
       "      <td>0</td>\n",
       "      <td>2</td>\n",
       "    </tr>\n",
       "    <tr>\n",
       "      <th>3</th>\n",
       "      <td>4</td>\n",
       "      <td>0.046304</td>\n",
       "      <td>12138100.0</td>\n",
       "      <td>12.1381</td>\n",
       "      <td>9</td>\n",
       "      <td>3</td>\n",
       "      <td>374</td>\n",
       "      <td>0</td>\n",
       "      <td>2</td>\n",
       "    </tr>\n",
       "    <tr>\n",
       "      <th>4</th>\n",
       "      <td>5</td>\n",
       "      <td>0.009433</td>\n",
       "      <td>26845900.0</td>\n",
       "      <td>26.8459</td>\n",
       "      <td>9</td>\n",
       "      <td>4</td>\n",
       "      <td>498</td>\n",
       "      <td>0</td>\n",
       "      <td>2</td>\n",
       "    </tr>\n",
       "  </tbody>\n",
       "</table>\n",
       "</div>"
      ],
      "text/plain": [
       "   hit_id  isochrone   depcharge  energyloss  volume_id  layer_id  module_id  \\\n",
       "0       1   0.034734  15204100.0     15.2041          9         0         38   \n",
       "1       2   0.048140  25058700.0     25.0587          9         1        144   \n",
       "2       3   0.055623  13596100.0     13.5961          9         2        256   \n",
       "3       4   0.046304  12138100.0     12.1381          9         3        374   \n",
       "4       5   0.009433  26845900.0     26.8459          9         4        498   \n",
       "\n",
       "   skewed  sector_id  \n",
       "0       0          2  \n",
       "1       0          2  \n",
       "2       0          2  \n",
       "3       0          2  \n",
       "4       0          2  "
      ]
     },
     "execution_count": 10,
     "metadata": {},
     "output_type": "execute_result"
    }
   ],
   "source": [
    "tubes.head()"
   ]
  },
  {
   "cell_type": "code",
   "execution_count": null,
   "metadata": {},
   "outputs": [],
   "source": []
  }
 ],
 "metadata": {
  "kernelspec": {
   "display_name": "Python 3 (ipykernel)",
   "language": "python",
   "name": "python3"
  },
  "language_info": {
   "codemirror_mode": {
    "name": "ipython",
    "version": 3
   },
   "file_extension": ".py",
   "mimetype": "text/x-python",
   "name": "python",
   "nbconvert_exporter": "python",
   "pygments_lexer": "ipython3",
   "version": "3.8.12"
  }
 },
 "nbformat": 4,
 "nbformat_minor": 4
}
